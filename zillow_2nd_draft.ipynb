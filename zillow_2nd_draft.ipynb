{
 "cells": [
  {
   "cell_type": "markdown",
   "id": "2a4513f3",
   "metadata": {},
   "source": [
    "# Zillow Data"
   ]
  },
  {
   "cell_type": "markdown",
   "id": "c312c441",
   "metadata": {},
   "source": [
    "### Mission\n",
    "\n",
    "* Discover the key drivers of property value for single family properties.\n",
    "\n",
    "* Use features to develop a machine learning model to predict the property value for single family properties."
   ]
  },
  {
   "cell_type": "markdown",
   "id": "938e182c",
   "metadata": {},
   "source": [
    "## Imports"
   ]
  },
  {
   "cell_type": "code",
   "execution_count": 1,
   "id": "d8176984",
   "metadata": {},
   "outputs": [],
   "source": [
    "import warnings\n",
    "warnings.filterwarnings(\"ignore\")\n",
    "\n",
    "import pandas as pd\n",
    "import numpy as np\n",
    "import os\n",
    "import wrangle_zillow as wz\n",
    "import explore_zillow as ez\n",
    "import model_zillow as mz\n",
    "\n",
    "import matplotlib.pyplot as plt\n",
    "import seaborn as sns\n",
    "from pydataset import data\n",
    "from math import sqrt\n",
    "from scipy import stats\n",
    "from sklearn.preprocessing import MinMaxScaler, StandardScaler, RobustScaler, QuantileTransformer\n",
    "from sklearn.linear_model import LinearRegression\n",
    "from sklearn.feature_selection import SelectKBest, RFE, f_regression, SequentialFeatureSelector\n",
    "from sklearn.metrics import mean_squared_error, r2_score, explained_variance_score\n",
    "from sklearn.feature_selection import f_regression\n",
    "from sklearn.model_selection import train_test_split"
   ]
  },
  {
   "cell_type": "markdown",
   "id": "b2069241",
   "metadata": {},
   "source": [
    "### Acquire Data\n",
    "\n",
    "* Data acquired from CodeUp database\n",
    "\n",
    "* Data set contained 52441 rows and 7 columns after cleaning\n",
    "* Each row represents an individual parcel\n",
    "* Each column represents a feature of that parcel"
   ]
  },
  {
   "cell_type": "markdown",
   "id": "4f888b0e",
   "metadata": {},
   "source": [
    "### Prepare Data\n",
    "\n",
    "#### Actions:\n",
    "\n",
    "* Removed columns that did not contain useful information\n",
    "* Renamed columns to promote readability\n",
    "* Removed nulls in the data\n",
    "* Converted current datatype to appropriate datatype\n",
    "* Split data into train, validate and test (approx. 60/25/15)"
   ]
  },
  {
   "cell_type": "markdown",
   "id": "f8aa2ade",
   "metadata": {},
   "source": [
    "## Data Dictionary\n"
   ]
  },
  {
   "cell_type": "code",
   "execution_count": 2,
   "id": "b5f99f70",
   "metadata": {},
   "outputs": [],
   "source": [
    "# acquiring, preparing, and splitting the zillow data\n",
    "train, validate, test = wz.wrangle_zillow()"
   ]
  },
  {
   "cell_type": "markdown",
   "id": "63c1a89f",
   "metadata": {},
   "source": [
    "## A brief look at the data"
   ]
  },
  {
   "cell_type": "code",
   "execution_count": 3,
   "id": "9bb6a0e1",
   "metadata": {},
   "outputs": [
    {
     "name": "stdout",
     "output_type": "stream",
     "text": [
      "<class 'pandas.core.frame.DataFrame'>\n",
      "Int64Index: 21969 entries, 40174 to 40856\n",
      "Data columns (total 7 columns):\n",
      " #   Column             Non-Null Count  Dtype  \n",
      "---  ------             --------------  -----  \n",
      " 0   bed_rooms          21969 non-null  int64  \n",
      " 1   bath_rooms         21969 non-null  float64\n",
      " 2   finished_sqft      21969 non-null  float64\n",
      " 3   taxvaluedollarcnt  21969 non-null  float64\n",
      " 4   year_built         21969 non-null  int64  \n",
      " 5   regionidcounty     21969 non-null  int64  \n",
      " 6   fips               21969 non-null  int64  \n",
      "dtypes: float64(3), int64(4)\n",
      "memory usage: 1.3 MB\n"
     ]
    }
   ],
   "source": [
    "train.info()"
   ]
  },
  {
   "cell_type": "markdown",
   "id": "ed5e08b5",
   "metadata": {},
   "source": [
    "## Data Summary"
   ]
  },
  {
   "cell_type": "code",
   "execution_count": 4,
   "id": "cd310b15",
   "metadata": {},
   "outputs": [
    {
     "data": {
      "text/html": [
       "<div>\n",
       "<style scoped>\n",
       "    .dataframe tbody tr th:only-of-type {\n",
       "        vertical-align: middle;\n",
       "    }\n",
       "\n",
       "    .dataframe tbody tr th {\n",
       "        vertical-align: top;\n",
       "    }\n",
       "\n",
       "    .dataframe thead th {\n",
       "        text-align: right;\n",
       "    }\n",
       "</style>\n",
       "<table border=\"1\" class=\"dataframe\">\n",
       "  <thead>\n",
       "    <tr style=\"text-align: right;\">\n",
       "      <th></th>\n",
       "      <th>bed_rooms</th>\n",
       "      <th>bath_rooms</th>\n",
       "      <th>finished_sqft</th>\n",
       "      <th>taxvaluedollarcnt</th>\n",
       "      <th>year_built</th>\n",
       "      <th>regionidcounty</th>\n",
       "      <th>fips</th>\n",
       "    </tr>\n",
       "  </thead>\n",
       "  <tbody>\n",
       "    <tr>\n",
       "      <th>count</th>\n",
       "      <td>21969.000000</td>\n",
       "      <td>21969.000000</td>\n",
       "      <td>21969.000000</td>\n",
       "      <td>21969.000000</td>\n",
       "      <td>21969.000000</td>\n",
       "      <td>21969.000000</td>\n",
       "      <td>21969.000000</td>\n",
       "    </tr>\n",
       "    <tr>\n",
       "      <th>mean</th>\n",
       "      <td>3.158405</td>\n",
       "      <td>2.026059</td>\n",
       "      <td>1623.302381</td>\n",
       "      <td>290381.744276</td>\n",
       "      <td>1960.570304</td>\n",
       "      <td>2590.490874</td>\n",
       "      <td>6048.232191</td>\n",
       "    </tr>\n",
       "    <tr>\n",
       "      <th>std</th>\n",
       "      <td>0.859079</td>\n",
       "      <td>0.742293</td>\n",
       "      <td>611.688231</td>\n",
       "      <td>163977.895379</td>\n",
       "      <td>21.337030</td>\n",
       "      <td>774.441636</td>\n",
       "      <td>20.907472</td>\n",
       "    </tr>\n",
       "    <tr>\n",
       "      <th>min</th>\n",
       "      <td>0.000000</td>\n",
       "      <td>0.000000</td>\n",
       "      <td>152.000000</td>\n",
       "      <td>1000.000000</td>\n",
       "      <td>1878.000000</td>\n",
       "      <td>1286.000000</td>\n",
       "      <td>6037.000000</td>\n",
       "    </tr>\n",
       "    <tr>\n",
       "      <th>25%</th>\n",
       "      <td>3.000000</td>\n",
       "      <td>2.000000</td>\n",
       "      <td>1200.000000</td>\n",
       "      <td>144941.000000</td>\n",
       "      <td>1950.000000</td>\n",
       "      <td>2061.000000</td>\n",
       "      <td>6037.000000</td>\n",
       "    </tr>\n",
       "    <tr>\n",
       "      <th>50%</th>\n",
       "      <td>3.000000</td>\n",
       "      <td>2.000000</td>\n",
       "      <td>1496.000000</td>\n",
       "      <td>281384.000000</td>\n",
       "      <td>1958.000000</td>\n",
       "      <td>3101.000000</td>\n",
       "      <td>6037.000000</td>\n",
       "    </tr>\n",
       "    <tr>\n",
       "      <th>75%</th>\n",
       "      <td>4.000000</td>\n",
       "      <td>2.500000</td>\n",
       "      <td>1922.000000</td>\n",
       "      <td>423359.000000</td>\n",
       "      <td>1974.000000</td>\n",
       "      <td>3101.000000</td>\n",
       "      <td>6059.000000</td>\n",
       "    </tr>\n",
       "    <tr>\n",
       "      <th>max</th>\n",
       "      <td>9.000000</td>\n",
       "      <td>8.000000</td>\n",
       "      <td>7970.000000</td>\n",
       "      <td>618256.000000</td>\n",
       "      <td>2016.000000</td>\n",
       "      <td>3101.000000</td>\n",
       "      <td>6111.000000</td>\n",
       "    </tr>\n",
       "  </tbody>\n",
       "</table>\n",
       "</div>"
      ],
      "text/plain": [
       "          bed_rooms    bath_rooms  finished_sqft  taxvaluedollarcnt  \\\n",
       "count  21969.000000  21969.000000   21969.000000       21969.000000   \n",
       "mean       3.158405      2.026059    1623.302381      290381.744276   \n",
       "std        0.859079      0.742293     611.688231      163977.895379   \n",
       "min        0.000000      0.000000     152.000000        1000.000000   \n",
       "25%        3.000000      2.000000    1200.000000      144941.000000   \n",
       "50%        3.000000      2.000000    1496.000000      281384.000000   \n",
       "75%        4.000000      2.500000    1922.000000      423359.000000   \n",
       "max        9.000000      8.000000    7970.000000      618256.000000   \n",
       "\n",
       "         year_built  regionidcounty          fips  \n",
       "count  21969.000000    21969.000000  21969.000000  \n",
       "mean    1960.570304     2590.490874   6048.232191  \n",
       "std       21.337030      774.441636     20.907472  \n",
       "min     1878.000000     1286.000000   6037.000000  \n",
       "25%     1950.000000     2061.000000   6037.000000  \n",
       "50%     1958.000000     3101.000000   6037.000000  \n",
       "75%     1974.000000     3101.000000   6059.000000  \n",
       "max     2016.000000     3101.000000   6111.000000  "
      ]
     },
     "execution_count": 4,
     "metadata": {},
     "output_type": "execute_result"
    }
   ],
   "source": [
    "train.describe()"
   ]
  },
  {
   "cell_type": "markdown",
   "id": "f470afba",
   "metadata": {},
   "source": [
    "### Explore Data"
   ]
  },
  {
   "cell_type": "markdown",
   "id": "bdbcbd18",
   "metadata": {},
   "source": [
    "## What is average value of a single family home?"
   ]
  },
  {
   "cell_type": "code",
   "execution_count": 5,
   "id": "802bb758",
   "metadata": {},
   "outputs": [
    {
     "name": "stdout",
     "output_type": "stream",
     "text": [
      "The average value is $290381.74\n"
     ]
    }
   ],
   "source": [
    "#returns the average/mean of the feature tax val dollar count\n",
    "# The average gives us great baseline\n",
    " \n",
    "baseline = train.taxvaluedollarcnt.mean()\n",
    "print(f'The average value is ${baseline:.2f}')"
   ]
  },
  {
   "cell_type": "markdown",
   "id": "6348c7e1",
   "metadata": {},
   "source": [
    "## Viz"
   ]
  },
  {
   "cell_type": "markdown",
   "id": "78a00be1",
   "metadata": {},
   "source": [
    "## What features should we investigate first?"
   ]
  },
  {
   "cell_type": "code",
   "execution_count": 6,
   "id": "422e43c2",
   "metadata": {},
   "outputs": [],
   "source": [
    "x_train, y_train, x_validate, y_validate, x_test, y_test = mz.model_sets(train, validate, test)"
   ]
  },
  {
   "cell_type": "code",
   "execution_count": 7,
   "id": "b12503af",
   "metadata": {},
   "outputs": [
    {
     "data": {
      "text/html": [
       "<div>\n",
       "<style scoped>\n",
       "    .dataframe tbody tr th:only-of-type {\n",
       "        vertical-align: middle;\n",
       "    }\n",
       "\n",
       "    .dataframe tbody tr th {\n",
       "        vertical-align: top;\n",
       "    }\n",
       "\n",
       "    .dataframe thead th {\n",
       "        text-align: right;\n",
       "    }\n",
       "</style>\n",
       "<table border=\"1\" class=\"dataframe\">\n",
       "  <thead>\n",
       "    <tr style=\"text-align: right;\">\n",
       "      <th></th>\n",
       "      <th>p</th>\n",
       "      <th>f</th>\n",
       "    </tr>\n",
       "  </thead>\n",
       "  <tbody>\n",
       "    <tr>\n",
       "      <th>bed_rooms</th>\n",
       "      <td>4.087223e-126</td>\n",
       "      <td>578.123431</td>\n",
       "    </tr>\n",
       "    <tr>\n",
       "      <th>bath_rooms</th>\n",
       "      <td>0.000000e+00</td>\n",
       "      <td>1705.982503</td>\n",
       "    </tr>\n",
       "    <tr>\n",
       "      <th>finished_sqft</th>\n",
       "      <td>0.000000e+00</td>\n",
       "      <td>1800.012997</td>\n",
       "    </tr>\n",
       "    <tr>\n",
       "      <th>year_built</th>\n",
       "      <td>2.029789e-228</td>\n",
       "      <td>1066.254339</td>\n",
       "    </tr>\n",
       "    <tr>\n",
       "      <th>regionidcounty</th>\n",
       "      <td>6.291911e-146</td>\n",
       "      <td>671.810016</td>\n",
       "    </tr>\n",
       "    <tr>\n",
       "      <th>fips</th>\n",
       "      <td>5.074378e-122</td>\n",
       "      <td>558.816026</td>\n",
       "    </tr>\n",
       "  </tbody>\n",
       "</table>\n",
       "</div>"
      ],
      "text/plain": [
       "                            p            f\n",
       "bed_rooms       4.087223e-126   578.123431\n",
       "bath_rooms       0.000000e+00  1705.982503\n",
       "finished_sqft    0.000000e+00  1800.012997\n",
       "year_built      2.029789e-228  1066.254339\n",
       "regionidcounty  6.291911e-146   671.810016\n",
       "fips            5.074378e-122   558.816026"
      ]
     },
     "execution_count": 7,
     "metadata": {},
     "output_type": "execute_result"
    }
   ],
   "source": [
    "ez.select_kbest(x_train, y_train)"
   ]
  },
  {
   "cell_type": "markdown",
   "id": "7f22652a",
   "metadata": {},
   "source": [
    "### Kbest selected in order of importance bathrooms, finished square ft, year home was built, and bedrooms as features to investigate. "
   ]
  },
  {
   "cell_type": "markdown",
   "id": "763bb52a",
   "metadata": {},
   "source": [
    "## Viz"
   ]
  },
  {
   "cell_type": "markdown",
   "id": "a829d028",
   "metadata": {},
   "source": [
    "**I will now use a pearsonsr statistical test to investigate whether finished square feet of the home and tax value are related** \n",
    "\n",
    "* I will use a confidence interval of 95% \n",
    "* The resulting alpha is .05<br>\n",
    "\n",
    "${H_0}$: There is no **linear** relationship between finished sqaure feet of the home and tax value.\n",
    "\n",
    "${H_a}$: There is a **linear** relationship between finished sqaure feet of the home and tax value."
   ]
  },
  {
   "cell_type": "code",
   "execution_count": 8,
   "id": "3080415f",
   "metadata": {},
   "outputs": [
    {
     "name": "stdout",
     "output_type": "stream",
     "text": [
      "We reject the null hypothesis\n",
      "pearsonsr test = 0.2752\n"
     ]
    }
   ],
   "source": [
    "ez.get_stats_sqft(train)"
   ]
  },
  {
   "cell_type": "markdown",
   "id": "7cd99409",
   "metadata": {},
   "source": [
    "## Viz"
   ]
  },
  {
   "cell_type": "markdown",
   "id": "481d2195",
   "metadata": {},
   "source": [
    "**I will now use a chi squared statistical test to investigate whether bathrooms of the home and tax value are related** \n",
    "\n",
    "* I will use a confidence interval of 95% \n",
    "* The resulting alpha is .05<br>\n",
    "\n",
    "${H_0}$: There is no **linear** relationship between bathrooms of the home and tax value.\n",
    "\n",
    "${H_a}$: There is a **linear** relationship between bathrooms of the home and tax value."
   ]
  },
  {
   "cell_type": "code",
   "execution_count": 9,
   "id": "0f690135",
   "metadata": {},
   "outputs": [
    {
     "name": "stdout",
     "output_type": "stream",
     "text": [
      "We reject the null hypothesis\n",
      "chi^2 = 282669.3795\n",
      "p     = 0.0000\n"
     ]
    }
   ],
   "source": [
    "#chi squared\n",
    "ez.get_chi_bath(train)"
   ]
  },
  {
   "cell_type": "markdown",
   "id": "dda12dfc",
   "metadata": {},
   "source": [
    "## Viz"
   ]
  },
  {
   "cell_type": "markdown",
   "id": "6c44a509",
   "metadata": {},
   "source": [
    "**I will now use a pearsonsr statistical test to investigate whether the year the home was built and tax value are related** \n",
    "\n",
    "* I will use a confidence interval of 95% \n",
    "* The resulting alpha is .05<br>\n",
    "\n",
    "${H_0}$: There is no **linear** relationship between year built of the home and tax value.\n",
    "\n",
    "${H_a}$: There is a **linear** relationship between year built of the home and tax value."
   ]
  },
  {
   "cell_type": "code",
   "execution_count": 10,
   "id": "364663a8",
   "metadata": {},
   "outputs": [
    {
     "name": "stdout",
     "output_type": "stream",
     "text": [
      "We reject the null hypothesis\n",
      "pearsonsr test = 0.2152\n"
     ]
    }
   ],
   "source": [
    "ez.get_stats_built(train)"
   ]
  },
  {
   "cell_type": "markdown",
   "id": "770cecac",
   "metadata": {},
   "source": [
    "## Viz"
   ]
  },
  {
   "cell_type": "markdown",
   "id": "3debc9d6",
   "metadata": {},
   "source": [
    "**I will now use a chi squared statistical test to investigate whether the bedrooms of the home and tax value are related** \n",
    "\n",
    "* I will use a confidence interval of 95% \n",
    "* The resulting alpha is .05<br>\n",
    "\n",
    "${H_0}$: There is no **linear** relationship between bedrooms of the home and tax value.\n",
    "\n",
    "${H_a}$: There is a **linear** relationship between bedrooms of the home and tax value."
   ]
  },
  {
   "cell_type": "code",
   "execution_count": 11,
   "id": "aa457e12",
   "metadata": {},
   "outputs": [
    {
     "name": "stdout",
     "output_type": "stream",
     "text": [
      "We reject the null hypothesis\n",
      "chi^2 = 174454.4700\n",
      "p     = 0.0000\n"
     ]
    }
   ],
   "source": [
    "#chi squared\n",
    "ez.get_chi_bed(train)"
   ]
  },
  {
   "cell_type": "markdown",
   "id": "1e8c28b5",
   "metadata": {},
   "source": [
    "## Exploration Summary\n",
    "\n",
    "* Kbest results selected in order of importance as features to investigate:\n",
    "    * bathrooms\n",
    "    * finished square ft\n",
    "    * year home was built\n",
    "    * bedrooms\n",
    "    \n",
    "* PearsonsR and Chi Squared statistical tests supported significance amongst the relationships between the 4 features and target variable.  \n",
    "\n",
    "## Creating predictive models\n",
    "\n",
    "### Features included: \n",
    "\n",
    "* \"bathrooms\", \"finished sqft\", \"year built\" - Features that had the most significance in relationship to the target variable are most likely going to model the best predictive power.\n",
    "\n",
    "### Features not included:\n",
    "\n",
    "* \"bedrooms\" - Feature had the weakest relationship to the target variable according to the kbest and chi squared tests. "
   ]
  },
  {
   "cell_type": "markdown",
   "id": "626d15a5",
   "metadata": {},
   "source": [
    "## MODEL"
   ]
  },
  {
   "cell_type": "code",
   "execution_count": 12,
   "id": "9d9cb205",
   "metadata": {},
   "outputs": [
    {
     "data": {
      "text/html": [
       "<div>\n",
       "<style scoped>\n",
       "    .dataframe tbody tr th:only-of-type {\n",
       "        vertical-align: middle;\n",
       "    }\n",
       "\n",
       "    .dataframe tbody tr th {\n",
       "        vertical-align: top;\n",
       "    }\n",
       "\n",
       "    .dataframe thead th {\n",
       "        text-align: right;\n",
       "    }\n",
       "</style>\n",
       "<table border=\"1\" class=\"dataframe\">\n",
       "  <thead>\n",
       "    <tr style=\"text-align: right;\">\n",
       "      <th></th>\n",
       "      <th>Actual</th>\n",
       "    </tr>\n",
       "  </thead>\n",
       "  <tbody>\n",
       "    <tr>\n",
       "      <th>40174</th>\n",
       "      <td>169587.0</td>\n",
       "    </tr>\n",
       "    <tr>\n",
       "      <th>28703</th>\n",
       "      <td>206900.0</td>\n",
       "    </tr>\n",
       "    <tr>\n",
       "      <th>6134</th>\n",
       "      <td>97875.0</td>\n",
       "    </tr>\n",
       "    <tr>\n",
       "      <th>17001</th>\n",
       "      <td>379756.0</td>\n",
       "    </tr>\n",
       "    <tr>\n",
       "      <th>30568</th>\n",
       "      <td>527700.0</td>\n",
       "    </tr>\n",
       "  </tbody>\n",
       "</table>\n",
       "</div>"
      ],
      "text/plain": [
       "         Actual\n",
       "40174  169587.0\n",
       "28703  206900.0\n",
       "6134    97875.0\n",
       "17001  379756.0\n",
       "30568  527700.0"
      ]
     },
     "execution_count": 12,
     "metadata": {},
     "output_type": "execute_result"
    }
   ],
   "source": [
    "# actual matches taxval dollar count\n",
    "mz.predictions(train)"
   ]
  },
  {
   "cell_type": "markdown",
   "id": "12021a8c",
   "metadata": {},
   "source": [
    "## Simple Linear Regression Model"
   ]
  },
  {
   "cell_type": "code",
   "execution_count": 13,
   "id": "76a97e36",
   "metadata": {},
   "outputs": [
    {
     "name": "stdout",
     "output_type": "stream",
     "text": [
      "Home Value = 43.395 * finished sqft year built & bathrooms + -1230105.818\n"
     ]
    }
   ],
   "source": [
    "# here its giing us the formula y = mx + b\n",
    "mz.simple_lm_model(train,validate)"
   ]
  },
  {
   "cell_type": "markdown",
   "id": "9b81fbfd",
   "metadata": {},
   "source": [
    "## Viz"
   ]
  },
  {
   "cell_type": "code",
   "execution_count": 14,
   "id": "42e77ed7",
   "metadata": {},
   "outputs": [
    {
     "data": {
      "text/html": [
       "<div>\n",
       "<style scoped>\n",
       "    .dataframe tbody tr th:only-of-type {\n",
       "        vertical-align: middle;\n",
       "    }\n",
       "\n",
       "    .dataframe tbody tr th {\n",
       "        vertical-align: top;\n",
       "    }\n",
       "\n",
       "    .dataframe thead th {\n",
       "        text-align: right;\n",
       "    }\n",
       "</style>\n",
       "<table border=\"1\" class=\"dataframe\">\n",
       "  <thead>\n",
       "    <tr style=\"text-align: right;\">\n",
       "      <th></th>\n",
       "      <th>bed_rooms</th>\n",
       "      <th>bath_rooms</th>\n",
       "      <th>finished_sqft</th>\n",
       "      <th>taxvaluedollarcnt</th>\n",
       "      <th>year_built</th>\n",
       "      <th>regionidcounty</th>\n",
       "      <th>fips</th>\n",
       "      <th>lm_predictions</th>\n",
       "    </tr>\n",
       "  </thead>\n",
       "  <tbody>\n",
       "    <tr>\n",
       "      <th>225</th>\n",
       "      <td>3</td>\n",
       "      <td>2.0</td>\n",
       "      <td>1395.0</td>\n",
       "      <td>388006.0</td>\n",
       "      <td>1951</td>\n",
       "      <td>3101</td>\n",
       "      <td>6037</td>\n",
       "      <td>273066.633511</td>\n",
       "    </tr>\n",
       "    <tr>\n",
       "      <th>7625</th>\n",
       "      <td>3</td>\n",
       "      <td>3.0</td>\n",
       "      <td>2332.0</td>\n",
       "      <td>139666.0</td>\n",
       "      <td>1952</td>\n",
       "      <td>3101</td>\n",
       "      <td>6037</td>\n",
       "      <td>334839.469942</td>\n",
       "    </tr>\n",
       "    <tr>\n",
       "      <th>36238</th>\n",
       "      <td>3</td>\n",
       "      <td>3.0</td>\n",
       "      <td>1294.0</td>\n",
       "      <td>576204.0</td>\n",
       "      <td>1939</td>\n",
       "      <td>3101</td>\n",
       "      <td>6037</td>\n",
       "      <td>280454.819812</td>\n",
       "    </tr>\n",
       "    <tr>\n",
       "      <th>33265</th>\n",
       "      <td>3</td>\n",
       "      <td>1.0</td>\n",
       "      <td>825.0</td>\n",
       "      <td>443825.0</td>\n",
       "      <td>1954</td>\n",
       "      <td>3101</td>\n",
       "      <td>6037</td>\n",
       "      <td>230093.794376</td>\n",
       "    </tr>\n",
       "    <tr>\n",
       "      <th>9581</th>\n",
       "      <td>5</td>\n",
       "      <td>5.0</td>\n",
       "      <td>4227.0</td>\n",
       "      <td>522148.0</td>\n",
       "      <td>2007</td>\n",
       "      <td>3101</td>\n",
       "      <td>6037</td>\n",
       "      <td>497378.466059</td>\n",
       "    </tr>\n",
       "  </tbody>\n",
       "</table>\n",
       "</div>"
      ],
      "text/plain": [
       "       bed_rooms  bath_rooms  finished_sqft  taxvaluedollarcnt  year_built  \\\n",
       "225            3         2.0         1395.0           388006.0        1951   \n",
       "7625           3         3.0         2332.0           139666.0        1952   \n",
       "36238          3         3.0         1294.0           576204.0        1939   \n",
       "33265          3         1.0          825.0           443825.0        1954   \n",
       "9581           5         5.0         4227.0           522148.0        2007   \n",
       "\n",
       "       regionidcounty  fips  lm_predictions  \n",
       "225              3101  6037   273066.633511  \n",
       "7625             3101  6037   334839.469942  \n",
       "36238            3101  6037   280454.819812  \n",
       "33265            3101  6037   230093.794376  \n",
       "9581             3101  6037   497378.466059  "
      ]
     },
     "execution_count": 14,
     "metadata": {},
     "output_type": "execute_result"
    }
   ],
   "source": [
    "validate.head()"
   ]
  },
  {
   "cell_type": "code",
   "execution_count": null,
   "id": "f57f666c",
   "metadata": {},
   "outputs": [],
   "source": []
  },
  {
   "cell_type": "markdown",
   "id": "eeb778e6",
   "metadata": {},
   "source": [
    "## Lasso Lars Regression Model"
   ]
  },
  {
   "cell_type": "code",
   "execution_count": 15,
   "id": "962a16a1",
   "metadata": {},
   "outputs": [
    {
     "name": "stdout",
     "output_type": "stream",
     "text": [
      "finished_sqft       43.268612\n",
      "year_built         714.146945\n",
      "bath_rooms       20342.313084\n",
      "dtype: float64\n"
     ]
    }
   ],
   "source": [
    "mz.lasso_model(train,validate)"
   ]
  },
  {
   "cell_type": "markdown",
   "id": "4426511d",
   "metadata": {},
   "source": [
    "## Viz"
   ]
  },
  {
   "cell_type": "code",
   "execution_count": 16,
   "id": "6672881a",
   "metadata": {},
   "outputs": [
    {
     "data": {
      "text/html": [
       "<div>\n",
       "<style scoped>\n",
       "    .dataframe tbody tr th:only-of-type {\n",
       "        vertical-align: middle;\n",
       "    }\n",
       "\n",
       "    .dataframe tbody tr th {\n",
       "        vertical-align: top;\n",
       "    }\n",
       "\n",
       "    .dataframe thead th {\n",
       "        text-align: right;\n",
       "    }\n",
       "</style>\n",
       "<table border=\"1\" class=\"dataframe\">\n",
       "  <thead>\n",
       "    <tr style=\"text-align: right;\">\n",
       "      <th></th>\n",
       "      <th>bed_rooms</th>\n",
       "      <th>bath_rooms</th>\n",
       "      <th>finished_sqft</th>\n",
       "      <th>taxvaluedollarcnt</th>\n",
       "      <th>year_built</th>\n",
       "      <th>regionidcounty</th>\n",
       "      <th>fips</th>\n",
       "      <th>lm_predictions</th>\n",
       "      <th>lars_predictions</th>\n",
       "    </tr>\n",
       "  </thead>\n",
       "  <tbody>\n",
       "    <tr>\n",
       "      <th>225</th>\n",
       "      <td>3</td>\n",
       "      <td>2.0</td>\n",
       "      <td>1395.0</td>\n",
       "      <td>388006.0</td>\n",
       "      <td>1951</td>\n",
       "      <td>3101</td>\n",
       "      <td>6037</td>\n",
       "      <td>273066.633511</td>\n",
       "      <td>273138.704668</td>\n",
       "    </tr>\n",
       "    <tr>\n",
       "      <th>7625</th>\n",
       "      <td>3</td>\n",
       "      <td>3.0</td>\n",
       "      <td>2332.0</td>\n",
       "      <td>139666.0</td>\n",
       "      <td>1952</td>\n",
       "      <td>3101</td>\n",
       "      <td>6037</td>\n",
       "      <td>334839.469942</td>\n",
       "      <td>334737.853955</td>\n",
       "    </tr>\n",
       "    <tr>\n",
       "      <th>36238</th>\n",
       "      <td>3</td>\n",
       "      <td>3.0</td>\n",
       "      <td>1294.0</td>\n",
       "      <td>576204.0</td>\n",
       "      <td>1939</td>\n",
       "      <td>3101</td>\n",
       "      <td>6037</td>\n",
       "      <td>280454.819812</td>\n",
       "      <td>280541.124615</td>\n",
       "    </tr>\n",
       "    <tr>\n",
       "      <th>33265</th>\n",
       "      <td>3</td>\n",
       "      <td>1.0</td>\n",
       "      <td>825.0</td>\n",
       "      <td>443825.0</td>\n",
       "      <td>1954</td>\n",
       "      <td>3101</td>\n",
       "      <td>6037</td>\n",
       "      <td>230093.794376</td>\n",
       "      <td>230275.723694</td>\n",
       "    </tr>\n",
       "    <tr>\n",
       "      <th>9581</th>\n",
       "      <td>5</td>\n",
       "      <td>5.0</td>\n",
       "      <td>4227.0</td>\n",
       "      <td>522148.0</td>\n",
       "      <td>2007</td>\n",
       "      <td>3101</td>\n",
       "      <td>6037</td>\n",
       "      <td>497378.466059</td>\n",
       "      <td>496694.581484</td>\n",
       "    </tr>\n",
       "  </tbody>\n",
       "</table>\n",
       "</div>"
      ],
      "text/plain": [
       "       bed_rooms  bath_rooms  finished_sqft  taxvaluedollarcnt  year_built  \\\n",
       "225            3         2.0         1395.0           388006.0        1951   \n",
       "7625           3         3.0         2332.0           139666.0        1952   \n",
       "36238          3         3.0         1294.0           576204.0        1939   \n",
       "33265          3         1.0          825.0           443825.0        1954   \n",
       "9581           5         5.0         4227.0           522148.0        2007   \n",
       "\n",
       "       regionidcounty  fips  lm_predictions  lars_predictions  \n",
       "225              3101  6037   273066.633511     273138.704668  \n",
       "7625             3101  6037   334839.469942     334737.853955  \n",
       "36238            3101  6037   280454.819812     280541.124615  \n",
       "33265            3101  6037   230093.794376     230275.723694  \n",
       "9581             3101  6037   497378.466059     496694.581484  "
      ]
     },
     "execution_count": 16,
     "metadata": {},
     "output_type": "execute_result"
    }
   ],
   "source": [
    "validate.head()"
   ]
  },
  {
   "cell_type": "markdown",
   "id": "582b0593",
   "metadata": {},
   "source": [
    "## Generalized Linear Regression Model"
   ]
  },
  {
   "cell_type": "code",
   "execution_count": 17,
   "id": "e4b1032b",
   "metadata": {},
   "outputs": [
    {
     "name": "stdout",
     "output_type": "stream",
     "text": [
      "finished_sqft      57.339299\n",
      "year_built        858.899942\n",
      "bath_rooms       3300.462751\n",
      "dtype: float64\n"
     ]
    }
   ],
   "source": [
    "mz.glm_model(train,validate)"
   ]
  },
  {
   "cell_type": "markdown",
   "id": "696b85bd",
   "metadata": {},
   "source": [
    "## Viz"
   ]
  },
  {
   "cell_type": "code",
   "execution_count": 18,
   "id": "3b64f7a6",
   "metadata": {},
   "outputs": [
    {
     "data": {
      "text/html": [
       "<div>\n",
       "<style scoped>\n",
       "    .dataframe tbody tr th:only-of-type {\n",
       "        vertical-align: middle;\n",
       "    }\n",
       "\n",
       "    .dataframe tbody tr th {\n",
       "        vertical-align: top;\n",
       "    }\n",
       "\n",
       "    .dataframe thead th {\n",
       "        text-align: right;\n",
       "    }\n",
       "</style>\n",
       "<table border=\"1\" class=\"dataframe\">\n",
       "  <thead>\n",
       "    <tr style=\"text-align: right;\">\n",
       "      <th></th>\n",
       "      <th>bed_rooms</th>\n",
       "      <th>bath_rooms</th>\n",
       "      <th>finished_sqft</th>\n",
       "      <th>taxvaluedollarcnt</th>\n",
       "      <th>year_built</th>\n",
       "      <th>regionidcounty</th>\n",
       "      <th>fips</th>\n",
       "      <th>lm_predictions</th>\n",
       "      <th>lars_predictions</th>\n",
       "      <th>glm_predictions</th>\n",
       "    </tr>\n",
       "  </thead>\n",
       "  <tbody>\n",
       "    <tr>\n",
       "      <th>225</th>\n",
       "      <td>3</td>\n",
       "      <td>2.0</td>\n",
       "      <td>1395.0</td>\n",
       "      <td>388006.0</td>\n",
       "      <td>1951</td>\n",
       "      <td>3101</td>\n",
       "      <td>6037</td>\n",
       "      <td>273066.633511</td>\n",
       "      <td>273138.704668</td>\n",
       "      <td>268985.104202</td>\n",
       "    </tr>\n",
       "    <tr>\n",
       "      <th>7625</th>\n",
       "      <td>3</td>\n",
       "      <td>3.0</td>\n",
       "      <td>2332.0</td>\n",
       "      <td>139666.0</td>\n",
       "      <td>1952</td>\n",
       "      <td>3101</td>\n",
       "      <td>6037</td>\n",
       "      <td>334839.469942</td>\n",
       "      <td>334737.853955</td>\n",
       "      <td>326871.390400</td>\n",
       "    </tr>\n",
       "    <tr>\n",
       "      <th>36238</th>\n",
       "      <td>3</td>\n",
       "      <td>3.0</td>\n",
       "      <td>1294.0</td>\n",
       "      <td>576204.0</td>\n",
       "      <td>1939</td>\n",
       "      <td>3101</td>\n",
       "      <td>6037</td>\n",
       "      <td>280454.819812</td>\n",
       "      <td>280541.124615</td>\n",
       "      <td>256187.498411</td>\n",
       "    </tr>\n",
       "    <tr>\n",
       "      <th>33265</th>\n",
       "      <td>3</td>\n",
       "      <td>1.0</td>\n",
       "      <td>825.0</td>\n",
       "      <td>443825.0</td>\n",
       "      <td>1954</td>\n",
       "      <td>3101</td>\n",
       "      <td>6037</td>\n",
       "      <td>230093.794376</td>\n",
       "      <td>230275.723694</td>\n",
       "      <td>235577.940640</td>\n",
       "    </tr>\n",
       "    <tr>\n",
       "      <th>9581</th>\n",
       "      <td>5</td>\n",
       "      <td>5.0</td>\n",
       "      <td>4227.0</td>\n",
       "      <td>522148.0</td>\n",
       "      <td>2007</td>\n",
       "      <td>3101</td>\n",
       "      <td>6037</td>\n",
       "      <td>497378.466059</td>\n",
       "      <td>496694.581484</td>\n",
       "      <td>489369.785021</td>\n",
       "    </tr>\n",
       "  </tbody>\n",
       "</table>\n",
       "</div>"
      ],
      "text/plain": [
       "       bed_rooms  bath_rooms  finished_sqft  taxvaluedollarcnt  year_built  \\\n",
       "225            3         2.0         1395.0           388006.0        1951   \n",
       "7625           3         3.0         2332.0           139666.0        1952   \n",
       "36238          3         3.0         1294.0           576204.0        1939   \n",
       "33265          3         1.0          825.0           443825.0        1954   \n",
       "9581           5         5.0         4227.0           522148.0        2007   \n",
       "\n",
       "       regionidcounty  fips  lm_predictions  lars_predictions  glm_predictions  \n",
       "225              3101  6037   273066.633511     273138.704668    268985.104202  \n",
       "7625             3101  6037   334839.469942     334737.853955    326871.390400  \n",
       "36238            3101  6037   280454.819812     280541.124615    256187.498411  \n",
       "33265            3101  6037   230093.794376     230275.723694    235577.940640  \n",
       "9581             3101  6037   497378.466059     496694.581484    489369.785021  "
      ]
     },
     "execution_count": 18,
     "metadata": {},
     "output_type": "execute_result"
    }
   ],
   "source": [
    "validate.head()"
   ]
  },
  {
   "cell_type": "markdown",
   "id": "b4d95b21",
   "metadata": {},
   "source": [
    "## Evaluate on Train"
   ]
  },
  {
   "cell_type": "code",
   "execution_count": 19,
   "id": "f356eb91",
   "metadata": {},
   "outputs": [
    {
     "data": {
      "text/plain": [
       "(537856500143301.56,\n",
       " 52835563653966.75,\n",
       " 590692063797268.2,\n",
       " 24482520831.32148,\n",
       " 156468.91330651427)"
      ]
     },
     "execution_count": 19,
     "metadata": {},
     "output_type": "execute_result"
    }
   ],
   "source": [
    "mz.lm_errors(train)"
   ]
  },
  {
   "cell_type": "code",
   "execution_count": 20,
   "id": "3665d133",
   "metadata": {},
   "outputs": [
    {
     "data": {
      "text/plain": [
       "(590692063797269.4, 26887526232.294113, 163974.16330719335)"
      ]
     },
     "execution_count": 20,
     "metadata": {},
     "output_type": "execute_result"
    }
   ],
   "source": [
    "mz.baseline_mean_errors(train)"
   ]
  },
  {
   "cell_type": "code",
   "execution_count": 21,
   "id": "84a98ca3",
   "metadata": {},
   "outputs": [
    {
     "name": "stdout",
     "output_type": "stream",
     "text": [
      "The Simple Linear Regression model performs better than the baseline.\n"
     ]
    }
   ],
   "source": [
    "mz.lm_vs_baseline(train)"
   ]
  },
  {
   "cell_type": "code",
   "execution_count": 22,
   "id": "4a787372",
   "metadata": {},
   "outputs": [
    {
     "data": {
      "text/plain": [
       "(537857179361946.4,\n",
       " 52464954708453.01,\n",
       " 590322134070399.4,\n",
       " 24482551748.461304,\n",
       " 156469.01210291227)"
      ]
     },
     "execution_count": 22,
     "metadata": {},
     "output_type": "execute_result"
    }
   ],
   "source": [
    "mz.lars_errors(train)"
   ]
  },
  {
   "cell_type": "code",
   "execution_count": 23,
   "id": "a753c86b",
   "metadata": {},
   "outputs": [
    {
     "data": {
      "text/plain": [
       "(590692063797269.4, 26887526232.294113, 163974.16330719335)"
      ]
     },
     "execution_count": 23,
     "metadata": {},
     "output_type": "execute_result"
    }
   ],
   "source": [
    "mz.baseline_mean_errors(train)"
   ]
  },
  {
   "cell_type": "code",
   "execution_count": 24,
   "id": "869e0f03",
   "metadata": {},
   "outputs": [
    {
     "name": "stdout",
     "output_type": "stream",
     "text": [
      "The Lasso Lars Regression model performs better than the baseline.\n"
     ]
    }
   ],
   "source": [
    "mz.lars_vs_baseline(train)"
   ]
  },
  {
   "cell_type": "code",
   "execution_count": 25,
   "id": "b5fa0eb2",
   "metadata": {},
   "outputs": [
    {
     "data": {
      "text/plain": [
       "(539093206706790.56,\n",
       " 51087681437770.6,\n",
       " 590180888144561.1,\n",
       " 24538814088.342236,\n",
       " 156648.69641443633)"
      ]
     },
     "execution_count": 25,
     "metadata": {},
     "output_type": "execute_result"
    }
   ],
   "source": [
    "mz.glm_errors(train)"
   ]
  },
  {
   "cell_type": "code",
   "execution_count": 26,
   "id": "c684e9da",
   "metadata": {},
   "outputs": [
    {
     "data": {
      "text/plain": [
       "(590692063797269.4, 26887526232.294113, 163974.16330719335)"
      ]
     },
     "execution_count": 26,
     "metadata": {},
     "output_type": "execute_result"
    }
   ],
   "source": [
    "mz.baseline_mean_errors(train)"
   ]
  },
  {
   "cell_type": "code",
   "execution_count": 27,
   "id": "e958836d",
   "metadata": {},
   "outputs": [
    {
     "name": "stdout",
     "output_type": "stream",
     "text": [
      "The Generalized Linear Regression model performs better than the baseline.\n"
     ]
    }
   ],
   "source": [
    "mz.glm_vs_baseline(train)"
   ]
  },
  {
   "cell_type": "markdown",
   "id": "15d9fefc",
   "metadata": {},
   "source": [
    "## Evaluate on Validate"
   ]
  },
  {
   "cell_type": "code",
   "execution_count": 28,
   "id": "9bb3deac",
   "metadata": {},
   "outputs": [
    {
     "data": {
      "text/plain": [
       "(224641246361031.3,\n",
       " 22146195761761.594,\n",
       " 246787442122792.9,\n",
       " 23857396597.39075,\n",
       " 154458.39762664493)"
      ]
     },
     "execution_count": 28,
     "metadata": {},
     "output_type": "execute_result"
    }
   ],
   "source": [
    "mz.lm_errors(validate)"
   ]
  },
  {
   "cell_type": "code",
   "execution_count": 29,
   "id": "0ca4c95c",
   "metadata": {},
   "outputs": [
    {
     "data": {
      "text/plain": [
       "(246164954232602.16, 26143261919.350273, 161688.7810559232)"
      ]
     },
     "execution_count": 29,
     "metadata": {},
     "output_type": "execute_result"
    }
   ],
   "source": [
    "mz.baseline_mean_errors(validate)"
   ]
  },
  {
   "cell_type": "code",
   "execution_count": 30,
   "id": "e6820390",
   "metadata": {},
   "outputs": [
    {
     "name": "stdout",
     "output_type": "stream",
     "text": [
      "The Simple Linear Regression model performs better than the baseline.\n"
     ]
    }
   ],
   "source": [
    "mz.lm_vs_baseline(validate)"
   ]
  },
  {
   "cell_type": "code",
   "execution_count": 31,
   "id": "179e283e",
   "metadata": {},
   "outputs": [
    {
     "data": {
      "text/plain": [
       "(224640852651076.6,\n",
       " 21991297315948.836,\n",
       " 246632149967025.44,\n",
       " 23857354784.523853,\n",
       " 154458.26227341758)"
      ]
     },
     "execution_count": 31,
     "metadata": {},
     "output_type": "execute_result"
    }
   ],
   "source": [
    "mz.lars_errors(validate)"
   ]
  },
  {
   "cell_type": "code",
   "execution_count": 32,
   "id": "da887a9e",
   "metadata": {},
   "outputs": [
    {
     "data": {
      "text/plain": [
       "(246164954232602.16, 26143261919.350273, 161688.7810559232)"
      ]
     },
     "execution_count": 32,
     "metadata": {},
     "output_type": "execute_result"
    }
   ],
   "source": [
    "mz.baseline_mean_errors(validate)"
   ]
  },
  {
   "cell_type": "code",
   "execution_count": 33,
   "id": "0d5c3951",
   "metadata": {},
   "outputs": [
    {
     "name": "stdout",
     "output_type": "stream",
     "text": [
      "The Lasso Lars Regression model performs better than the baseline.\n"
     ]
    }
   ],
   "source": [
    "mz.lars_vs_baseline(validate)"
   ]
  },
  {
   "cell_type": "code",
   "execution_count": 34,
   "id": "02d708cb",
   "metadata": {},
   "outputs": [
    {
     "data": {
      "text/plain": [
       "(224945396077587.7,\n",
       " 21294726822306.92,\n",
       " 246240122899894.62,\n",
       " 23889697969.15757,\n",
       " 154562.92559717406)"
      ]
     },
     "execution_count": 34,
     "metadata": {},
     "output_type": "execute_result"
    }
   ],
   "source": [
    "mz.glm_errors(validate)"
   ]
  },
  {
   "cell_type": "code",
   "execution_count": 35,
   "id": "b3871168",
   "metadata": {},
   "outputs": [
    {
     "data": {
      "text/plain": [
       "(246164954232602.16, 26143261919.350273, 161688.7810559232)"
      ]
     },
     "execution_count": 35,
     "metadata": {},
     "output_type": "execute_result"
    }
   ],
   "source": [
    "mz.baseline_mean_errors(validate)"
   ]
  },
  {
   "cell_type": "code",
   "execution_count": 36,
   "id": "a08fa546",
   "metadata": {},
   "outputs": [
    {
     "name": "stdout",
     "output_type": "stream",
     "text": [
      "The Generalized Linear Regression model performs better than the baseline.\n"
     ]
    }
   ],
   "source": [
    "mz.glm_vs_baseline(validate)"
   ]
  },
  {
   "cell_type": "code",
   "execution_count": null,
   "id": "0dece9d6",
   "metadata": {},
   "outputs": [],
   "source": []
  },
  {
   "cell_type": "code",
   "execution_count": null,
   "id": "675b4cf3",
   "metadata": {},
   "outputs": [],
   "source": []
  },
  {
   "cell_type": "code",
   "execution_count": null,
   "id": "9ca5fa70",
   "metadata": {},
   "outputs": [],
   "source": []
  }
 ],
 "metadata": {
  "kernelspec": {
   "display_name": "Python 3 (ipykernel)",
   "language": "python",
   "name": "python3"
  },
  "language_info": {
   "codemirror_mode": {
    "name": "ipython",
    "version": 3
   },
   "file_extension": ".py",
   "mimetype": "text/x-python",
   "name": "python",
   "nbconvert_exporter": "python",
   "pygments_lexer": "ipython3",
   "version": "3.9.12"
  }
 },
 "nbformat": 4,
 "nbformat_minor": 5
}
