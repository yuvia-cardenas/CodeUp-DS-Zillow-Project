{
 "cells": [
  {
   "cell_type": "code",
   "execution_count": 1,
   "id": "e026c2cf",
   "metadata": {},
   "outputs": [],
   "source": [
    "import pandas as pd\n",
    "import numpy as np\n",
    "import os\n",
    "import env\n",
    "from env import host, user, pwd\n",
    "from pydataset import data\n",
    "import seaborn as sns\n",
    "import matplotlib.pyplot as plt\n",
    "import pandas as pd\n",
    "import numpy as np\n",
    "\n",
    "\n",
    "import matplotlib.pyplot as plt\n",
    "from sklearn.feature_selection import RFE\n",
    "from sklearn.metrics import mean_squared_error\n",
    "from sklearn.preprocessing import MinMaxScaler\n",
    "from sklearn.model_selection import train_test_split\n",
    "from math import sqrt\n",
    "\n",
    "import warnings\n",
    "warnings.filterwarnings(\"ignore\")\n",
    "\n"
   ]
  },
  {
   "cell_type": "code",
   "execution_count": 3,
   "id": "9cb72226",
   "metadata": {},
   "outputs": [],
   "source": [
    "df = wrangle_zillow()"
   ]
  },
  {
   "cell_type": "code",
   "execution_count": 4,
   "id": "3a6caf94",
   "metadata": {},
   "outputs": [
    {
     "name": "stdout",
     "output_type": "stream",
     "text": [
      "<class 'pandas.core.frame.DataFrame'>\n",
      "Int64Index: 52315 entries, 0 to 52440\n",
      "Data columns (total 8 columns):\n",
      " #   Column          Non-Null Count  Dtype  \n",
      "---  ------          --------------  -----  \n",
      " 0   bed_rooms       52315 non-null  int64  \n",
      " 1   bath_rooms      52315 non-null  float64\n",
      " 2   finished_sqft   52315 non-null  float64\n",
      " 3   tax_val         52315 non-null  float64\n",
      " 4   year_built      52315 non-null  int64  \n",
      " 5   regionidcounty  52315 non-null  int64  \n",
      " 6   taxamount       52315 non-null  float64\n",
      " 7   fips            52315 non-null  int64  \n",
      "dtypes: float64(4), int64(4)\n",
      "memory usage: 3.6 MB\n"
     ]
    }
   ],
   "source": [
    "df.info()"
   ]
  },
  {
   "cell_type": "code",
   "execution_count": 5,
   "id": "07e4ae47",
   "metadata": {},
   "outputs": [
    {
     "data": {
      "text/html": [
       "<div>\n",
       "<style scoped>\n",
       "    .dataframe tbody tr th:only-of-type {\n",
       "        vertical-align: middle;\n",
       "    }\n",
       "\n",
       "    .dataframe tbody tr th {\n",
       "        vertical-align: top;\n",
       "    }\n",
       "\n",
       "    .dataframe thead th {\n",
       "        text-align: right;\n",
       "    }\n",
       "</style>\n",
       "<table border=\"1\" class=\"dataframe\">\n",
       "  <thead>\n",
       "    <tr style=\"text-align: right;\">\n",
       "      <th></th>\n",
       "      <th>bed_rooms</th>\n",
       "      <th>bath_rooms</th>\n",
       "      <th>finished_sqft</th>\n",
       "      <th>tax_val</th>\n",
       "      <th>year_built</th>\n",
       "      <th>regionidcounty</th>\n",
       "      <th>taxamount</th>\n",
       "      <th>fips</th>\n",
       "    </tr>\n",
       "  </thead>\n",
       "  <tbody>\n",
       "    <tr>\n",
       "      <th>0</th>\n",
       "      <td>4</td>\n",
       "      <td>3.5</td>\n",
       "      <td>3100.0</td>\n",
       "      <td>1023282.0</td>\n",
       "      <td>1998</td>\n",
       "      <td>1286</td>\n",
       "      <td>11013.72</td>\n",
       "      <td>6059</td>\n",
       "    </tr>\n",
       "    <tr>\n",
       "      <th>1</th>\n",
       "      <td>2</td>\n",
       "      <td>1.0</td>\n",
       "      <td>1465.0</td>\n",
       "      <td>464000.0</td>\n",
       "      <td>1967</td>\n",
       "      <td>2061</td>\n",
       "      <td>5672.48</td>\n",
       "      <td>6111</td>\n",
       "    </tr>\n",
       "    <tr>\n",
       "      <th>2</th>\n",
       "      <td>3</td>\n",
       "      <td>2.0</td>\n",
       "      <td>1243.0</td>\n",
       "      <td>564778.0</td>\n",
       "      <td>1962</td>\n",
       "      <td>1286</td>\n",
       "      <td>6488.30</td>\n",
       "      <td>6059</td>\n",
       "    </tr>\n",
       "    <tr>\n",
       "      <th>3</th>\n",
       "      <td>4</td>\n",
       "      <td>3.0</td>\n",
       "      <td>2376.0</td>\n",
       "      <td>145143.0</td>\n",
       "      <td>1970</td>\n",
       "      <td>3101</td>\n",
       "      <td>1777.51</td>\n",
       "      <td>6037</td>\n",
       "    </tr>\n",
       "    <tr>\n",
       "      <th>4</th>\n",
       "      <td>4</td>\n",
       "      <td>3.0</td>\n",
       "      <td>2962.0</td>\n",
       "      <td>773303.0</td>\n",
       "      <td>1950</td>\n",
       "      <td>3101</td>\n",
       "      <td>9516.26</td>\n",
       "      <td>6037</td>\n",
       "    </tr>\n",
       "  </tbody>\n",
       "</table>\n",
       "</div>"
      ],
      "text/plain": [
       "   bed_rooms  bath_rooms  finished_sqft    tax_val  year_built  \\\n",
       "0          4         3.5         3100.0  1023282.0        1998   \n",
       "1          2         1.0         1465.0   464000.0        1967   \n",
       "2          3         2.0         1243.0   564778.0        1962   \n",
       "3          4         3.0         2376.0   145143.0        1970   \n",
       "4          4         3.0         2962.0   773303.0        1950   \n",
       "\n",
       "   regionidcounty  taxamount  fips  \n",
       "0            1286   11013.72  6059  \n",
       "1            2061    5672.48  6111  \n",
       "2            1286    6488.30  6059  \n",
       "3            3101    1777.51  6037  \n",
       "4            3101    9516.26  6037  "
      ]
     },
     "execution_count": 5,
     "metadata": {},
     "output_type": "execute_result"
    }
   ],
   "source": [
    "df.head()"
   ]
  },
  {
   "cell_type": "code",
   "execution_count": 6,
   "id": "88a4914a",
   "metadata": {},
   "outputs": [],
   "source": [
    "train, validate, test = split_data(df)"
   ]
  },
  {
   "cell_type": "code",
   "execution_count": 7,
   "id": "4253c5b4",
   "metadata": {},
   "outputs": [
    {
     "data": {
      "text/html": [
       "<div>\n",
       "<style scoped>\n",
       "    .dataframe tbody tr th:only-of-type {\n",
       "        vertical-align: middle;\n",
       "    }\n",
       "\n",
       "    .dataframe tbody tr th {\n",
       "        vertical-align: top;\n",
       "    }\n",
       "\n",
       "    .dataframe thead th {\n",
       "        text-align: right;\n",
       "    }\n",
       "</style>\n",
       "<table border=\"1\" class=\"dataframe\">\n",
       "  <thead>\n",
       "    <tr style=\"text-align: right;\">\n",
       "      <th></th>\n",
       "      <th>bed_rooms</th>\n",
       "      <th>bath_rooms</th>\n",
       "      <th>finished_sqft</th>\n",
       "      <th>tax_val</th>\n",
       "      <th>year_built</th>\n",
       "      <th>regionidcounty</th>\n",
       "      <th>taxamount</th>\n",
       "      <th>fips</th>\n",
       "    </tr>\n",
       "  </thead>\n",
       "  <tbody>\n",
       "    <tr>\n",
       "      <th>42782</th>\n",
       "      <td>2</td>\n",
       "      <td>1.0</td>\n",
       "      <td>614.0</td>\n",
       "      <td>150431.0</td>\n",
       "      <td>1923</td>\n",
       "      <td>3101</td>\n",
       "      <td>2863.70</td>\n",
       "      <td>6037</td>\n",
       "    </tr>\n",
       "    <tr>\n",
       "      <th>40761</th>\n",
       "      <td>4</td>\n",
       "      <td>2.0</td>\n",
       "      <td>1792.0</td>\n",
       "      <td>489350.0</td>\n",
       "      <td>1947</td>\n",
       "      <td>3101</td>\n",
       "      <td>5673.98</td>\n",
       "      <td>6037</td>\n",
       "    </tr>\n",
       "    <tr>\n",
       "      <th>2994</th>\n",
       "      <td>4</td>\n",
       "      <td>4.5</td>\n",
       "      <td>4052.0</td>\n",
       "      <td>990806.0</td>\n",
       "      <td>2004</td>\n",
       "      <td>1286</td>\n",
       "      <td>11679.74</td>\n",
       "      <td>6059</td>\n",
       "    </tr>\n",
       "    <tr>\n",
       "      <th>35637</th>\n",
       "      <td>4</td>\n",
       "      <td>4.0</td>\n",
       "      <td>4342.0</td>\n",
       "      <td>1617935.0</td>\n",
       "      <td>1957</td>\n",
       "      <td>3101</td>\n",
       "      <td>18950.81</td>\n",
       "      <td>6037</td>\n",
       "    </tr>\n",
       "    <tr>\n",
       "      <th>16821</th>\n",
       "      <td>4</td>\n",
       "      <td>3.5</td>\n",
       "      <td>3238.0</td>\n",
       "      <td>937000.0</td>\n",
       "      <td>1987</td>\n",
       "      <td>2061</td>\n",
       "      <td>10355.22</td>\n",
       "      <td>6111</td>\n",
       "    </tr>\n",
       "  </tbody>\n",
       "</table>\n",
       "</div>"
      ],
      "text/plain": [
       "       bed_rooms  bath_rooms  finished_sqft    tax_val  year_built  \\\n",
       "42782          2         1.0          614.0   150431.0        1923   \n",
       "40761          4         2.0         1792.0   489350.0        1947   \n",
       "2994           4         4.5         4052.0   990806.0        2004   \n",
       "35637          4         4.0         4342.0  1617935.0        1957   \n",
       "16821          4         3.5         3238.0   937000.0        1987   \n",
       "\n",
       "       regionidcounty  taxamount  fips  \n",
       "42782            3101    2863.70  6037  \n",
       "40761            3101    5673.98  6037  \n",
       "2994             1286   11679.74  6059  \n",
       "35637            3101   18950.81  6037  \n",
       "16821            2061   10355.22  6111  "
      ]
     },
     "execution_count": 7,
     "metadata": {},
     "output_type": "execute_result"
    }
   ],
   "source": [
    "train.head()"
   ]
  },
  {
   "cell_type": "code",
   "execution_count": null,
   "id": "cda0fd86",
   "metadata": {},
   "outputs": [],
   "source": []
  },
  {
   "cell_type": "code",
   "execution_count": 10,
   "id": "bb881809",
   "metadata": {},
   "outputs": [],
   "source": [
    "from sklearn.linear_model import LinearRegression\n",
    "# generate parameters, i.e. create model\n",
    "# ols_model = LinearRegression().fit(df[['x']], df.y)\n",
    "\n",
    "# compute predictions and add to original dataframe\n",
    "# df['yhat'] = ols_model.predict(df[['x']])\n",
    "\n",
    "# assuming X and y are already defined\n",
    "model = LinearRegression().fit(x_train, y_train)\n",
    "train['yhat'] = model.predict(x_train)"
   ]
  },
  {
   "cell_type": "code",
   "execution_count": 11,
   "id": "81c3922f",
   "metadata": {},
   "outputs": [],
   "source": [
    "predictions = train['yhat']"
   ]
  },
  {
   "cell_type": "code",
   "execution_count": 12,
   "id": "ae7faf5f",
   "metadata": {},
   "outputs": [
    {
     "data": {
      "text/html": [
       "<div>\n",
       "<style scoped>\n",
       "    .dataframe tbody tr th:only-of-type {\n",
       "        vertical-align: middle;\n",
       "    }\n",
       "\n",
       "    .dataframe tbody tr th {\n",
       "        vertical-align: top;\n",
       "    }\n",
       "\n",
       "    .dataframe thead th {\n",
       "        text-align: right;\n",
       "    }\n",
       "</style>\n",
       "<table border=\"1\" class=\"dataframe\">\n",
       "  <thead>\n",
       "    <tr style=\"text-align: right;\">\n",
       "      <th></th>\n",
       "      <th>bed_rooms</th>\n",
       "      <th>bath_rooms</th>\n",
       "      <th>finished_sqft</th>\n",
       "      <th>tax_val</th>\n",
       "      <th>year_built</th>\n",
       "      <th>regionidcounty</th>\n",
       "      <th>taxamount</th>\n",
       "      <th>fips</th>\n",
       "      <th>yhat</th>\n",
       "    </tr>\n",
       "  </thead>\n",
       "  <tbody>\n",
       "    <tr>\n",
       "      <th>42782</th>\n",
       "      <td>2</td>\n",
       "      <td>1.0</td>\n",
       "      <td>614.0</td>\n",
       "      <td>150431.0</td>\n",
       "      <td>1923</td>\n",
       "      <td>3101</td>\n",
       "      <td>2863.70</td>\n",
       "      <td>6037</td>\n",
       "      <td>-7.897036e+04</td>\n",
       "    </tr>\n",
       "    <tr>\n",
       "      <th>40761</th>\n",
       "      <td>4</td>\n",
       "      <td>2.0</td>\n",
       "      <td>1792.0</td>\n",
       "      <td>489350.0</td>\n",
       "      <td>1947</td>\n",
       "      <td>3101</td>\n",
       "      <td>5673.98</td>\n",
       "      <td>6037</td>\n",
       "      <td>4.676900e+05</td>\n",
       "    </tr>\n",
       "    <tr>\n",
       "      <th>2994</th>\n",
       "      <td>4</td>\n",
       "      <td>4.5</td>\n",
       "      <td>4052.0</td>\n",
       "      <td>990806.0</td>\n",
       "      <td>2004</td>\n",
       "      <td>1286</td>\n",
       "      <td>11679.74</td>\n",
       "      <td>6059</td>\n",
       "      <td>1.516461e+06</td>\n",
       "    </tr>\n",
       "    <tr>\n",
       "      <th>35637</th>\n",
       "      <td>4</td>\n",
       "      <td>4.0</td>\n",
       "      <td>4342.0</td>\n",
       "      <td>1617935.0</td>\n",
       "      <td>1957</td>\n",
       "      <td>3101</td>\n",
       "      <td>18950.81</td>\n",
       "      <td>6037</td>\n",
       "      <td>1.651038e+06</td>\n",
       "    </tr>\n",
       "    <tr>\n",
       "      <th>16821</th>\n",
       "      <td>4</td>\n",
       "      <td>3.5</td>\n",
       "      <td>3238.0</td>\n",
       "      <td>937000.0</td>\n",
       "      <td>1987</td>\n",
       "      <td>2061</td>\n",
       "      <td>10355.22</td>\n",
       "      <td>6111</td>\n",
       "      <td>1.138718e+06</td>\n",
       "    </tr>\n",
       "  </tbody>\n",
       "</table>\n",
       "</div>"
      ],
      "text/plain": [
       "       bed_rooms  bath_rooms  finished_sqft    tax_val  year_built  \\\n",
       "42782          2         1.0          614.0   150431.0        1923   \n",
       "40761          4         2.0         1792.0   489350.0        1947   \n",
       "2994           4         4.5         4052.0   990806.0        2004   \n",
       "35637          4         4.0         4342.0  1617935.0        1957   \n",
       "16821          4         3.5         3238.0   937000.0        1987   \n",
       "\n",
       "       regionidcounty  taxamount  fips          yhat  \n",
       "42782            3101    2863.70  6037 -7.897036e+04  \n",
       "40761            3101    5673.98  6037  4.676900e+05  \n",
       "2994             1286   11679.74  6059  1.516461e+06  \n",
       "35637            3101   18950.81  6037  1.651038e+06  \n",
       "16821            2061   10355.22  6111  1.138718e+06  "
      ]
     },
     "execution_count": 12,
     "metadata": {},
     "output_type": "execute_result"
    }
   ],
   "source": [
    "train.head()"
   ]
  },
  {
   "cell_type": "code",
   "execution_count": 13,
   "id": "fa9c4890",
   "metadata": {},
   "outputs": [],
   "source": [
    "train['yhat_baseline'] = y_train.mean()"
   ]
  },
  {
   "cell_type": "code",
   "execution_count": 14,
   "id": "0d104bcd",
   "metadata": {},
   "outputs": [
    {
     "data": {
      "image/png": "[encoded data removed]",
      "text/plain": [
       "<Figure size 432x288 with 1 Axes>"
      ]
     },
     "metadata": {
      "needs_background": "light"
     },
     "output_type": "display_data"
    }
   ],
   "source": [
    "# plot data with baseline:\n",
    "plt.scatter(x_train, y_train)\n",
    "plt.axhline(y_train.mean(), ls=':')\n",
    "\n",
    "plt.xlabel('x = finished_sqft')\n",
    "plt.ylabel('y = taxValue$count')\n",
    "plt.title('baseline model')\n",
    "plt.show()"
   ]
  },
  {
   "cell_type": "code",
   "execution_count": 15,
   "id": "de46474f",
   "metadata": {},
   "outputs": [],
   "source": [
    "train['residual'] = y_train - train['yhat']\n",
    "train['residual_baseline'] = y_train - train['yhat_baseline']"
   ]
  },
  {
   "cell_type": "code",
   "execution_count": 16,
   "id": "7eca340f",
   "metadata": {},
   "outputs": [
    {
     "data": {
      "image/png": "[encoded data removed]",
      "text/plain": [
       "<Figure size 432x288 with 1 Axes>"
      ]
     },
     "metadata": {
      "needs_background": "light"
     },
     "output_type": "display_data"
    }
   ],
   "source": [
    "plt.scatter(y_train, train['residual'])\n",
    "plt.xlabel('x = taxValue$count')\n",
    "plt.ylabel('y = residual')\n",
    "plt.show()"
   ]
  },
  {
   "cell_type": "code",
   "execution_count": 17,
   "id": "960d3855",
   "metadata": {},
   "outputs": [],
   "source": [
    "# square each residual value\n",
    "train['residual^2'] = train.residual ** 2\n",
    "\n",
    "train['residual_baseline^2'] = train.residual_baseline ** 2"
   ]
  },
  {
   "cell_type": "code",
   "execution_count": 18,
   "id": "bf9a986f",
   "metadata": {},
   "outputs": [
    {
     "data": {
      "text/html": [
       "<div>\n",
       "<style scoped>\n",
       "    .dataframe tbody tr th:only-of-type {\n",
       "        vertical-align: middle;\n",
       "    }\n",
       "\n",
       "    .dataframe tbody tr th {\n",
       "        vertical-align: top;\n",
       "    }\n",
       "\n",
       "    .dataframe thead th {\n",
       "        text-align: right;\n",
       "    }\n",
       "</style>\n",
       "<table border=\"1\" class=\"dataframe\">\n",
       "  <thead>\n",
       "    <tr style=\"text-align: right;\">\n",
       "      <th></th>\n",
       "      <th>bed_rooms</th>\n",
       "      <th>bath_rooms</th>\n",
       "      <th>finished_sqft</th>\n",
       "      <th>tax_val</th>\n",
       "      <th>year_built</th>\n",
       "      <th>regionidcounty</th>\n",
       "      <th>taxamount</th>\n",
       "      <th>fips</th>\n",
       "      <th>yhat</th>\n",
       "      <th>yhat_baseline</th>\n",
       "      <th>residual</th>\n",
       "      <th>residual_baseline</th>\n",
       "      <th>residual^2</th>\n",
       "      <th>residual_baseline^2</th>\n",
       "    </tr>\n",
       "  </thead>\n",
       "  <tbody>\n",
       "    <tr>\n",
       "      <th>42782</th>\n",
       "      <td>2</td>\n",
       "      <td>1.0</td>\n",
       "      <td>614.0</td>\n",
       "      <td>150431.0</td>\n",
       "      <td>1923</td>\n",
       "      <td>3101</td>\n",
       "      <td>2863.70</td>\n",
       "      <td>6037</td>\n",
       "      <td>-7.897036e+04</td>\n",
       "      <td>528229.118788</td>\n",
       "      <td>229401.359970</td>\n",
       "      <td>-3.777981e+05</td>\n",
       "      <td>5.262498e+10</td>\n",
       "      <td>1.427314e+11</td>\n",
       "    </tr>\n",
       "    <tr>\n",
       "      <th>40761</th>\n",
       "      <td>4</td>\n",
       "      <td>2.0</td>\n",
       "      <td>1792.0</td>\n",
       "      <td>489350.0</td>\n",
       "      <td>1947</td>\n",
       "      <td>3101</td>\n",
       "      <td>5673.98</td>\n",
       "      <td>6037</td>\n",
       "      <td>4.676900e+05</td>\n",
       "      <td>528229.118788</td>\n",
       "      <td>21659.989649</td>\n",
       "      <td>-3.887912e+04</td>\n",
       "      <td>4.691552e+08</td>\n",
       "      <td>1.511586e+09</td>\n",
       "    </tr>\n",
       "    <tr>\n",
       "      <th>2994</th>\n",
       "      <td>4</td>\n",
       "      <td>4.5</td>\n",
       "      <td>4052.0</td>\n",
       "      <td>990806.0</td>\n",
       "      <td>2004</td>\n",
       "      <td>1286</td>\n",
       "      <td>11679.74</td>\n",
       "      <td>6059</td>\n",
       "      <td>1.516461e+06</td>\n",
       "      <td>528229.118788</td>\n",
       "      <td>-525655.179216</td>\n",
       "      <td>4.625769e+05</td>\n",
       "      <td>2.763134e+11</td>\n",
       "      <td>2.139774e+11</td>\n",
       "    </tr>\n",
       "    <tr>\n",
       "      <th>35637</th>\n",
       "      <td>4</td>\n",
       "      <td>4.0</td>\n",
       "      <td>4342.0</td>\n",
       "      <td>1617935.0</td>\n",
       "      <td>1957</td>\n",
       "      <td>3101</td>\n",
       "      <td>18950.81</td>\n",
       "      <td>6037</td>\n",
       "      <td>1.651038e+06</td>\n",
       "      <td>528229.118788</td>\n",
       "      <td>-33103.010619</td>\n",
       "      <td>1.089706e+06</td>\n",
       "      <td>1.095809e+09</td>\n",
       "      <td>1.187459e+12</td>\n",
       "    </tr>\n",
       "    <tr>\n",
       "      <th>16821</th>\n",
       "      <td>4</td>\n",
       "      <td>3.5</td>\n",
       "      <td>3238.0</td>\n",
       "      <td>937000.0</td>\n",
       "      <td>1987</td>\n",
       "      <td>2061</td>\n",
       "      <td>10355.22</td>\n",
       "      <td>6111</td>\n",
       "      <td>1.138718e+06</td>\n",
       "      <td>528229.118788</td>\n",
       "      <td>-201717.935209</td>\n",
       "      <td>4.087709e+05</td>\n",
       "      <td>4.069013e+10</td>\n",
       "      <td>1.670936e+11</td>\n",
       "    </tr>\n",
       "  </tbody>\n",
       "</table>\n",
       "</div>"
      ],
      "text/plain": [
       "       bed_rooms  bath_rooms  finished_sqft    tax_val  year_built  \\\n",
       "42782          2         1.0          614.0   150431.0        1923   \n",
       "40761          4         2.0         1792.0   489350.0        1947   \n",
       "2994           4         4.5         4052.0   990806.0        2004   \n",
       "35637          4         4.0         4342.0  1617935.0        1957   \n",
       "16821          4         3.5         3238.0   937000.0        1987   \n",
       "\n",
       "       regionidcounty  taxamount  fips          yhat  yhat_baseline  \\\n",
       "42782            3101    2863.70  6037 -7.897036e+04  528229.118788   \n",
       "40761            3101    5673.98  6037  4.676900e+05  528229.118788   \n",
       "2994             1286   11679.74  6059  1.516461e+06  528229.118788   \n",
       "35637            3101   18950.81  6037  1.651038e+06  528229.118788   \n",
       "16821            2061   10355.22  6111  1.138718e+06  528229.118788   \n",
       "\n",
       "            residual  residual_baseline    residual^2  residual_baseline^2  \n",
       "42782  229401.359970      -3.777981e+05  5.262498e+10         1.427314e+11  \n",
       "40761   21659.989649      -3.887912e+04  4.691552e+08         1.511586e+09  \n",
       "2994  -525655.179216       4.625769e+05  2.763134e+11         2.139774e+11  \n",
       "35637  -33103.010619       1.089706e+06  1.095809e+09         1.187459e+12  \n",
       "16821 -201717.935209       4.087709e+05  4.069013e+10         1.670936e+11  "
      ]
     },
     "execution_count": 18,
     "metadata": {},
     "output_type": "execute_result"
    }
   ],
   "source": [
    "train.head()"
   ]
  },
  {
   "cell_type": "code",
   "execution_count": 19,
   "id": "f77055e2",
   "metadata": {},
   "outputs": [
    {
     "name": "stdout",
     "output_type": "stream",
     "text": [
      "SSE =  1.1653725533817264e+16\n",
      "SSE - baseline =  1.804785891401278e+16\n"
     ]
    }
   ],
   "source": [
    "# SSE\n",
    "SSE = sum(train['residual^2'])\n",
    "SSE_baseline = sum(train['residual_baseline^2'])\n",
    "\n",
    "print(\"SSE = \", SSE)\n",
    "print(\"SSE - baseline = \", SSE_baseline)"
   ]
  },
  {
   "cell_type": "code",
   "execution_count": 20,
   "id": "5df2c620",
   "metadata": {},
   "outputs": [
    {
     "name": "stdout",
     "output_type": "stream",
     "text": [
      "MSE =  397792378953.34735\n",
      "MSE baseline =  616051983684.2156\n"
     ]
    }
   ],
   "source": [
    "MSE = SSE/len(train)\n",
    "MSE_baseline = SSE_baseline/len(train)\n",
    "\n",
    "print(\"MSE = \", MSE)\n",
    "print(\"MSE baseline = \", MSE_baseline)"
   ]
  },
  {
   "cell_type": "code",
   "execution_count": 21,
   "id": "7c15543c",
   "metadata": {},
   "outputs": [
    {
     "name": "stdout",
     "output_type": "stream",
     "text": [
      "MSE =  397792378953.3475\n",
      "MSE baseline =  616051983684.2174\n"
     ]
    }
   ],
   "source": [
    "MSE2_baseline = mean_squared_error(y_train, train.yhat_baseline)\n",
    "MSE2 = mean_squared_error(y_train, train.yhat)\n",
    "print(\"MSE = \", MSE2)\n",
    "print(\"MSE baseline = \", MSE2_baseline)"
   ]
  },
  {
   "cell_type": "code",
   "execution_count": 22,
   "id": "65e9aca7",
   "metadata": {},
   "outputs": [
    {
     "name": "stdout",
     "output_type": "stream",
     "text": [
      "RMSE =  630707.8396162104\n",
      "RMSE baseline =  784889.7907886276\n"
     ]
    }
   ],
   "source": [
    "RMSE = sqrt(MSE)\n",
    "RMSE_baseline = sqrt(MSE_baseline)\n",
    "\n",
    "print(\"RMSE = \", RMSE)\n",
    "print(\"RMSE baseline = \", RMSE_baseline)"
   ]
  },
  {
   "cell_type": "code",
   "execution_count": 23,
   "id": "2ed04d0e",
   "metadata": {},
   "outputs": [
    {
     "name": "stdout",
     "output_type": "stream",
     "text": [
      "  metric   model_error\n",
      "0    SSE  1.165373e+16\n",
      "1    MSE  3.977924e+11\n",
      "2   RMSE  6.307078e+05\n",
      "          metric   model_error\n",
      "0   SSE_baseline  1.804786e+16\n",
      "1   MSE_baseline  6.160520e+11\n",
      "2  RMSE_baseline  7.848898e+05\n"
     ]
    }
   ],
   "source": [
    "df_eval = pd.DataFrame(np.array(['SSE','MSE','RMSE']), columns=['metric'])\n",
    "df_baseline_eval = pd.DataFrame(np.array(['SSE_baseline','MSE_baseline','RMSE_baseline']), columns=['metric'])\n",
    "\n",
    "df_eval['model_error'] = np.array([SSE, MSE, RMSE])\n",
    "df_baseline_eval['model_error'] = np.array([SSE_baseline, MSE_baseline, RMSE_baseline])\n",
    "\n",
    "print(df_eval)\n",
    "print(df_baseline_eval)"
   ]
  },
  {
   "cell_type": "code",
   "execution_count": 24,
   "id": "55a6aa34",
   "metadata": {},
   "outputs": [
    {
     "data": {
      "text/html": [
       "<div>\n",
       "<style scoped>\n",
       "    .dataframe tbody tr th:only-of-type {\n",
       "        vertical-align: middle;\n",
       "    }\n",
       "\n",
       "    .dataframe tbody tr th {\n",
       "        vertical-align: top;\n",
       "    }\n",
       "\n",
       "    .dataframe thead th {\n",
       "        text-align: right;\n",
       "    }\n",
       "</style>\n",
       "<table border=\"1\" class=\"dataframe\">\n",
       "  <thead>\n",
       "    <tr style=\"text-align: right;\">\n",
       "      <th></th>\n",
       "      <th>metric</th>\n",
       "      <th>model_error</th>\n",
       "      <th>error_delta</th>\n",
       "    </tr>\n",
       "  </thead>\n",
       "  <tbody>\n",
       "    <tr>\n",
       "      <th>0</th>\n",
       "      <td>SSE</td>\n",
       "      <td>1.165373e+16</td>\n",
       "      <td>-6.394133e+15</td>\n",
       "    </tr>\n",
       "    <tr>\n",
       "      <th>1</th>\n",
       "      <td>MSE</td>\n",
       "      <td>3.977924e+11</td>\n",
       "      <td>-2.182596e+11</td>\n",
       "    </tr>\n",
       "    <tr>\n",
       "      <th>2</th>\n",
       "      <td>RMSE</td>\n",
       "      <td>6.307078e+05</td>\n",
       "      <td>-1.541820e+05</td>\n",
       "    </tr>\n",
       "  </tbody>\n",
       "</table>\n",
       "</div>"
      ],
      "text/plain": [
       "  metric   model_error   error_delta\n",
       "0    SSE  1.165373e+16 -6.394133e+15\n",
       "1    MSE  3.977924e+11 -2.182596e+11\n",
       "2   RMSE  6.307078e+05 -1.541820e+05"
      ]
     },
     "execution_count": 24,
     "metadata": {},
     "output_type": "execute_result"
    }
   ],
   "source": [
    "df_eval['error_delta'] = df_eval.model_error - df_baseline_eval.model_error\n",
    "df_eval"
   ]
  },
  {
   "cell_type": "code",
   "execution_count": 25,
   "id": "c58ff4eb",
   "metadata": {},
   "outputs": [],
   "source": [
    "TSS = SSE_baseline"
   ]
  },
  {
   "cell_type": "code",
   "execution_count": 26,
   "id": "53995556",
   "metadata": {},
   "outputs": [
    {
     "data": {
      "text/plain": [
       "6394133380195516.0"
      ]
     },
     "execution_count": 26,
     "metadata": {},
     "output_type": "execute_result"
    }
   ],
   "source": [
    "ESS = TSS - SSE\n",
    "ESS"
   ]
  },
  {
   "cell_type": "code",
   "execution_count": 27,
   "id": "53459aba",
   "metadata": {},
   "outputs": [
    {
     "data": {
      "text/plain": [
       "0.35428764213304886"
      ]
     },
     "execution_count": 27,
     "metadata": {},
     "output_type": "execute_result"
    }
   ],
   "source": [
    "R2 = ESS/TSS\n",
    "R2"
   ]
  },
  {
   "cell_type": "code",
   "execution_count": 28,
   "id": "a234082e",
   "metadata": {},
   "outputs": [],
   "source": [
    "def good_model(SSE, SSE_baseline):\n",
    "    if SSE < SSE_baseline:\n",
    "        print('better than baseline')\n",
    "    else:\n",
    "        print('not better than baseline')"
   ]
  },
  {
   "cell_type": "code",
   "execution_count": 29,
   "id": "a75f3a68",
   "metadata": {},
   "outputs": [
    {
     "name": "stdout",
     "output_type": "stream",
     "text": [
      "better than baseline\n"
     ]
    }
   ],
   "source": [
    "good_model(SSE, SSE_baseline)"
   ]
  },
  {
   "cell_type": "markdown",
   "id": "a2e3f564",
   "metadata": {},
   "source": [
    "#Viz\n",
    "*plt.hist(y_train)\n",
    "*plt.xlabel(\"Final Grade (G3)\")\n",
    "*plt.ylabel(\"Number of Students\")\n",
    "*plt.show()\n"
   ]
  },
  {
   "cell_type": "markdown",
   "id": "10dcde28",
   "metadata": {},
   "source": [
    "see andrews git-hub py file"
   ]
  },
  {
   "cell_type": "markdown",
   "id": "d95dbe84",
   "metadata": {},
   "source": [
    "* Ask exploratory questions of your data that will help you understand more about the attributes and drivers of home value. \n",
    "* Answer questions through charts and statistical tests.\n",
    "\n",
    "* Construct a model to predict assessed home value for single family properties using regression techniques.\n",
    "\n",
    "* Make recommendations to a data science team about how to improve predictions."
   ]
  },
  {
   "cell_type": "markdown",
   "id": "017a8ce8",
   "metadata": {},
   "source": [
    "* Find the key drivers of property value for single family properties. \n",
    "* Some questions that come to mind are: \n",
    "* Why do some properties have a much higher value than others when they are located so close to each other? \n",
    "* Why are some properties valued so differently from others when they have nearly the same physical attributes but only differ in location?\n",
    "* Why do some properties have a much higher value in particular county? \n",
    "* "
   ]
  },
  {
   "cell_type": "markdown",
   "id": "de97d126",
   "metadata": {},
   "source": [
    "Exploration should be refined in the report because now you know which visualizations and tests led to valuable outcomes.\n",
    "\n",
    "Include at least 4 visualizations in the form of:\n",
    "\n",
    "Question in markdown that you want to answer\n",
    "\n",
    "Visualization\n",
    "\n",
    "Statistical test (in at least 2 of your 4)\n",
    "\n",
    "Provide your clear answer or takeaway in markdown and natural language to the question based on your exploration.\n",
    "\n",
    "Provide the context of the target variable through a visualization (distribution of the values, e.g.)\n",
    "\n",
    "Include your 3 best models in the final notebook to review. Show the steps and code you went through to fit the models, evaluate, and select.\n",
    "\n",
    "On your best model, a chart visualizing how it performed on test would be valuable"
   ]
  },
  {
   "cell_type": "code",
   "execution_count": null,
   "id": "3b43b554",
   "metadata": {},
   "outputs": [],
   "source": [
    "observed = pd.crosstab(train.churn_encoded, train.contract_type)\n",
    "observed"
   ]
  },
  {
   "cell_type": "code",
   "execution_count": null,
   "id": "d827728f",
   "metadata": {},
   "outputs": [],
   "source": [
    "stats.chi2_contingency(observed)"
   ]
  },
  {
   "cell_type": "code",
   "execution_count": null,
   "id": "67b4dccb",
   "metadata": {},
   "outputs": [],
   "source": [
    "chi2, p, degf, expected = stats.chi2_contingency(observed)"
   ]
  },
  {
   "cell_type": "code",
   "execution_count": null,
   "id": "f1c9a49e",
   "metadata": {},
   "outputs": [],
   "source": [
    "print('Observed')\n",
    "print(observed.values)\n",
    "print('\\nExpected')\n",
    "print(expected.astype(int))\n",
    "print('\\n----')\n",
    "print(f'chi^2 = {chi2:.4f}')\n",
    "print(f'p     = {p:.4f}')"
   ]
  },
  {
   "cell_type": "code",
   "execution_count": null,
   "id": "9d4cc0a6",
   "metadata": {},
   "outputs": [],
   "source": [
    "if p < alpha:\n",
    "    print('We reject the null hypothesis')\n",
    "else:\n",
    "    print('We fail to reject the null hypothesis')"
   ]
  },
  {
   "cell_type": "code",
   "execution_count": null,
   "id": "38e43d2a",
   "metadata": {},
   "outputs": [],
   "source": []
  },
  {
   "cell_type": "code",
   "execution_count": null,
   "id": "fb4507b6",
   "metadata": {},
   "outputs": [],
   "source": [
    "${H_0}$: There is no **linear** relationship between tenure and monthly charges\n",
    "\n",
    "${H_a}$: There is a **linear** relationship between tenure and monthly charges"
   ]
  },
  {
   "cell_type": "code",
   "execution_count": null,
   "id": "f0edd77e",
   "metadata": {},
   "outputs": [],
   "source": [
    "df.plot.scatter(y='monthly_charges', x='tenure')"
   ]
  },
  {
   "cell_type": "code",
   "execution_count": null,
   "id": "9c44f0ef",
   "metadata": {},
   "outputs": [],
   "source": [
    "alpha = 0.05"
   ]
  },
  {
   "cell_type": "code",
   "execution_count": null,
   "id": "aa798953",
   "metadata": {},
   "outputs": [],
   "source": [
    "r, p = stats.pearsonr(df.tenure, df.monthly_charges)\n",
    "r, p"
   ]
  },
  {
   "cell_type": "code",
   "execution_count": null,
   "id": "003e08f4",
   "metadata": {},
   "outputs": [],
   "source": [
    "if p < alpha:\n",
    "    print('Reject the null hypothesis')\n",
    "else:\n",
    "    print('Fail to reject the null hypothesis')"
   ]
  },
  {
   "cell_type": "code",
   "execution_count": null,
   "id": "bfc822d7",
   "metadata": {},
   "outputs": [],
   "source": [
    "sns.relplot(data=df, y='monthly_charges', x='tenure', col='internet_service_type', row='phone_service')"
   ]
  },
  {
   "cell_type": "code",
   "execution_count": null,
   "id": "93db0cf8",
   "metadata": {},
   "outputs": [],
   "source": [
    "# You could cram it all into one visual if you wanted to...\n",
    "sns.relplot(data=df, y='monthly_charges', x='tenure', hue='internet_service_type', style='phone_service')"
   ]
  },
  {
   "cell_type": "code",
   "execution_count": null,
   "id": "9e595581",
   "metadata": {},
   "outputs": [],
   "source": [
    "Check on the order below"
   ]
  },
  {
   "cell_type": "code",
   "execution_count": null,
   "id": "afe33648",
   "metadata": {},
   "outputs": [],
   "source": [
    "def select_kbest(X_train, y_train):\n",
    "    kbest = SelectKBest(f_regression, k=3)\n",
    "    _ = kbest.fit(X_train, y_train)\n",
    "    kbest_results = pd.DataFrame(\n",
    "        dict(p=kbest.pvalues_, f=kbest.scores_),\n",
    "                                 index = X_train.columns)\n",
    "    return kbest_results"
   ]
  },
  {
   "cell_type": "code",
   "execution_count": null,
   "id": "1a9b1b85",
   "metadata": {},
   "outputs": [],
   "source": []
  },
  {
   "cell_type": "code",
   "execution_count": null,
   "id": "aa481a73",
   "metadata": {},
   "outputs": [],
   "source": [
    "# get-support() will output a boolean mask to tell me which features were selected\n",
    "# we can apply this mask to the columns in our original dataframe\n",
    "X_train.columns[kbest.get_support()]"
   ]
  },
  {
   "cell_type": "code",
   "execution_count": null,
   "id": "97ca3840",
   "metadata": {},
   "outputs": [],
   "source": [
    "# kbest transform will convert our information to the selected feature subspace\n",
    "# its a numpy array\n",
    "kbest.transform(X_train)[:5]"
   ]
  },
  {
   "cell_type": "code",
   "execution_count": null,
   "id": "eb0b33b6",
   "metadata": {},
   "outputs": [],
   "source": [
    "X_train_transformed = pd.DataFrame(\n",
    "    kbest.transform(X_train),\n",
    "    columns=X_train.columns[kbest.get_support()],\n",
    "    index=X_train.index\n",
    ")"
   ]
  },
  {
   "cell_type": "code",
   "execution_count": null,
   "id": "b599a585",
   "metadata": {},
   "outputs": [],
   "source": [
    "X_train_transformed.head(10)"
   ]
  },
  {
   "cell_type": "code",
   "execution_count": 2,
   "id": "b9b3093b",
   "metadata": {},
   "outputs": [
    {
     "ename": "NameError",
     "evalue": "name 'train' is not defined",
     "output_type": "error",
     "traceback": [
      "\u001b[0;31m---------------------------------------------------------------------------\u001b[0m",
      "\u001b[0;31mNameError\u001b[0m                                 Traceback (most recent call last)",
      "Input \u001b[0;32mIn [2]\u001b[0m, in \u001b[0;36m<cell line: 1>\u001b[0;34m()\u001b[0m\n\u001b[0;32m----> 1\u001b[0m x_1 \u001b[38;5;241m=\u001b[39m \u001b[43mtrain\u001b[49m[[\u001b[38;5;124m'\u001b[39m\u001b[38;5;124mfinished_sqft\u001b[39m\u001b[38;5;124m'\u001b[39m]]\n\u001b[1;32m      2\u001b[0m y_1 \u001b[38;5;241m=\u001b[39m train\u001b[38;5;241m.\u001b[39mtaxvaluedollarcnt\n",
      "\u001b[0;31mNameError\u001b[0m: name 'train' is not defined"
     ]
    }
   ],
   "source": [
    "x_1 = train[['finished_sqft']]\n",
    "y_1 = train.taxvaluedollarcnt"
   ]
  },
  {
   "cell_type": "code",
   "execution_count": null,
   "id": "8db3de4f",
   "metadata": {},
   "outputs": [],
   "source": [
    "plt.figure(figsize=(10,6))\n",
    "plt.plot(x_1, y_1)\n",
    "\n",
    "\n",
    "plt.xticks(fontsize=18, fontweight = 'bold')\n",
    "plt.yticks(np.arrange(0,500,1000),np.arrange(0,500,1000), fontsize= 18)\n",
    "\n",
    "ax= plt.axes()\n",
    "ax.yaxis.set_minor_locator(plt.MultipleLocator(1))\n",
    "ax.xaxis.set_minor_locator(plt.MultipleLocator(1))\n",
    "\n",
    "plt.tick_params(axis='y', which='major', length=8, width='2')\n",
    "plt.tick_params(axis='y', which='minor', length=8, width='2')\n",
    "\n",
    "plt.tick_params(axis='x', which='major', length=8, width='2')\n",
    "plt.tick_params(axis='x', which='minor', length=8, width='2')\n",
    "\n",
    "\n",
    "plt.xlabel('x = finished_sqft', fontsize=15, fontweight = 'bold')\n",
    "plt.ylabel('y = price $', fontsize=15, fontweight = 'bold')\n",
    "plt.title('price vs sqft', fontsize=16, fontweight = 'bold')\n",
    "plt.savefig('plot.png')"
   ]
  },
  {
   "cell_type": "code",
   "execution_count": null,
   "id": "6ed34206",
   "metadata": {},
   "outputs": [],
   "source": []
  },
  {
   "cell_type": "code",
   "execution_count": null,
   "id": "606b14ff",
   "metadata": {},
   "outputs": [],
   "source": [
    "### Evaluate\n",
    "\n",
    "**Plotting Actual vs. Predicted Values**"
   ]
  },
  {
   "cell_type": "code",
   "execution_count": 3,
   "id": "cde764fa",
   "metadata": {},
   "outputs": [
    {
     "ename": "NameError",
     "evalue": "name 'y_validate' is not defined",
     "output_type": "error",
     "traceback": [
      "\u001b[0;31m---------------------------------------------------------------------------\u001b[0m",
      "\u001b[0;31mNameError\u001b[0m                                 Traceback (most recent call last)",
      "Input \u001b[0;32mIn [3]\u001b[0m, in \u001b[0;36m<cell line: 3>\u001b[0;34m()\u001b[0m\n\u001b[1;32m      1\u001b[0m \u001b[38;5;66;03m# y_validate.head()\u001b[39;00m\n\u001b[1;32m      2\u001b[0m plt\u001b[38;5;241m.\u001b[39mfigure(figsize\u001b[38;5;241m=\u001b[39m(\u001b[38;5;241m16\u001b[39m,\u001b[38;5;241m8\u001b[39m))\n\u001b[0;32m----> 3\u001b[0m plt\u001b[38;5;241m.\u001b[39mplot(\u001b[43my_validate\u001b[49m\u001b[38;5;241m.\u001b[39murea, y_validate\u001b[38;5;241m.\u001b[39murea_pred_mean, alpha\u001b[38;5;241m=\u001b[39m\u001b[38;5;241m.5\u001b[39m, color\u001b[38;5;241m=\u001b[39m\u001b[38;5;124m\"\u001b[39m\u001b[38;5;124mgray\u001b[39m\u001b[38;5;124m\"\u001b[39m, label\u001b[38;5;241m=\u001b[39m\u001b[38;5;124m'\u001b[39m\u001b[38;5;124m_nolegend_\u001b[39m\u001b[38;5;124m'\u001b[39m)\n\u001b[1;32m      4\u001b[0m plt\u001b[38;5;241m.\u001b[39mplot(y_validate\u001b[38;5;241m.\u001b[39murea, y_validate\u001b[38;5;241m.\u001b[39murea, alpha\u001b[38;5;241m=\u001b[39m\u001b[38;5;241m.5\u001b[39m, color\u001b[38;5;241m=\u001b[39m\u001b[38;5;124m\"\u001b[39m\u001b[38;5;124mblue\u001b[39m\u001b[38;5;124m\"\u001b[39m, label\u001b[38;5;241m=\u001b[39m\u001b[38;5;124m'\u001b[39m\u001b[38;5;124m_nolegend_\u001b[39m\u001b[38;5;124m'\u001b[39m)\n\u001b[1;32m      6\u001b[0m plt\u001b[38;5;241m.\u001b[39mscatter(y_validate\u001b[38;5;241m.\u001b[39murea, y_validate\u001b[38;5;241m.\u001b[39murea_pred_lm, \n\u001b[1;32m      7\u001b[0m             alpha\u001b[38;5;241m=\u001b[39m\u001b[38;5;241m.5\u001b[39m, color\u001b[38;5;241m=\u001b[39m\u001b[38;5;124m\"\u001b[39m\u001b[38;5;124mred\u001b[39m\u001b[38;5;124m\"\u001b[39m, s\u001b[38;5;241m=\u001b[39m\u001b[38;5;241m100\u001b[39m, label\u001b[38;5;241m=\u001b[39m\u001b[38;5;124m\"\u001b[39m\u001b[38;5;124mModel: LinearRegression\u001b[39m\u001b[38;5;124m\"\u001b[39m)\n",
      "\u001b[0;31mNameError\u001b[0m: name 'y_validate' is not defined"
     ]
    },
    {
     "data": {
      "text/plain": [
       "<Figure size 1152x576 with 0 Axes>"
      ]
     },
     "metadata": {},
     "output_type": "display_data"
    }
   ],
   "source": [
    "# y_validate.head()\n",
    "plt.figure(figsize=(16,8))\n",
    "plt.plot(y_validate.urea, y_validate.urea_pred_mean, alpha=.5, color=\"gray\", label='_nolegend_')\n",
    "plt.plot(y_validate.urea, y_validate.urea, alpha=.5, color=\"blue\", label='_nolegend_')\n",
    "\n",
    "plt.scatter(y_validate.urea, y_validate.urea_pred_lm, \n",
    "            alpha=.5, color=\"red\", s=100, label=\"Model: LinearRegression\")\n",
    "plt.scatter(y_validate.urea, y_validate.urea_pred_glm, \n",
    "            alpha=.5, color=\"yellow\", s=100, label=\"Model: TweedieRegressor\")\n",
    "plt.scatter(y_validate.urea, y_validate.urea_pred_lm2, \n",
    "            alpha=.5, color=\"green\", s=100, label=\"Model 2nd degree Polynomial\")\n",
    "plt.legend()\n",
    "plt.xlabel(\"Actual urea Concentration\")\n",
    "plt.ylabel(\"Predicted Urea Concentration\")\n",
    "plt.title(\"Where are predictions more extreme? More modest?\")\n",
    "\n",
    "plt.show()"
   ]
  },
  {
   "cell_type": "code",
   "execution_count": null,
   "id": "b9edd6ec",
   "metadata": {},
   "outputs": [],
   "source": []
  },
  {
   "cell_type": "code",
   "execution_count": null,
   "id": "9a54ba64",
   "metadata": {},
   "outputs": [],
   "source": []
  }
 ],
 "metadata": {
  "kernelspec": {
   "display_name": "Python 3 (ipykernel)",
   "language": "python",
   "name": "python3"
  },
  "language_info": {
   "codemirror_mode": {
    "name": "ipython",
    "version": 3
   },
   "file_extension": ".py",
   "mimetype": "text/x-python",
   "name": "python",
   "nbconvert_exporter": "python",
   "pygments_lexer": "ipython3",
   "version": "3.9.12"
  }
 },
 "nbformat": 4,
 "nbformat_minor": 5
}
