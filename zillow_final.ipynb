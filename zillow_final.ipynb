{
 "cells": [
  {
   "cell_type": "markdown",
   "id": "2a4513f3",
   "metadata": {},
   "source": [
    "# Zillow Data"
   ]
  },
  {
   "cell_type": "markdown",
   "id": "c312c441",
   "metadata": {},
   "source": [
    "### Mission\n",
    "\n",
    "* Discover the key drivers of property value for single family properties.\n",
    "\n",
    "* Use features to develop a machine learning model that predicts the property value for single family properties."
   ]
  },
  {
   "cell_type": "markdown",
   "id": "938e182c",
   "metadata": {},
   "source": [
    "### Imports"
   ]
  },
  {
   "cell_type": "code",
   "execution_count": 1,
   "id": "d8176984",
   "metadata": {},
   "outputs": [],
   "source": [
    "import warnings\n",
    "warnings.filterwarnings(\"ignore\")\n",
    "\n",
    "import pandas as pd\n",
    "import numpy as np\n",
    "import os\n",
    "import wrangle_zillow as wz\n",
    "import explore_zillow as ez\n",
    "import model_zillow as mz\n",
    "\n",
    "import matplotlib.pyplot as plt\n",
    "import seaborn as sns\n",
    "from pydataset import data\n",
    "from math import sqrt\n",
    "from scipy import stats\n",
    "from sklearn.preprocessing import MinMaxScaler, StandardScaler, RobustScaler, QuantileTransformer\n",
    "from sklearn.linear_model import LinearRegression\n",
    "from sklearn.linear_model import LassoLars\n",
    "from sklearn.feature_selection import SelectKBest, RFE, f_regression, SequentialFeatureSelector\n",
    "from sklearn.metrics import mean_squared_error, r2_score, explained_variance_score\n",
    "from sklearn.feature_selection import f_regression\n",
    "from sklearn.model_selection import train_test_split"
   ]
  },
  {
   "cell_type": "markdown",
   "id": "b2069241",
   "metadata": {},
   "source": [
    "### Acquire Data\n",
    "\n",
    "* Data acquired from CodeUp database\n",
    "* Data set contained 52441 rows and 7 columns after cleaning\n",
    "* Each row represents an individual parcel\n",
    "* Each column represents a feature of that parcel"
   ]
  },
  {
   "cell_type": "markdown",
   "id": "4f888b0e",
   "metadata": {},
   "source": [
    "### Prepare Data\n",
    "\n",
    "#### Actions:\n",
    "\n",
    "* Removed columns that did not contain useful information\n",
    "* Renamed columns to promote readability\n",
    "* Removed nulls in the data\n",
    "* Converted current datatype to appropriate datatype\n",
    "* Split data into train, validate and test (approx. 60/25/15)"
   ]
  },
  {
   "cell_type": "markdown",
   "id": "f8aa2ade",
   "metadata": {},
   "source": [
    "### Data Dictionary\n"
   ]
  },
  {
   "cell_type": "code",
   "execution_count": 2,
   "id": "b5f99f70",
   "metadata": {},
   "outputs": [],
   "source": [
    "# acquiring, preparing, and splitting the zillow data\n",
    "train, validate, test = wz.wrangle_zillow()"
   ]
  },
  {
   "cell_type": "markdown",
   "id": "63c1a89f",
   "metadata": {},
   "source": [
    "### An overview of the data"
   ]
  },
  {
   "cell_type": "code",
   "execution_count": 3,
   "id": "9bb6a0e1",
   "metadata": {},
   "outputs": [
    {
     "name": "stdout",
     "output_type": "stream",
     "text": [
      "<class 'pandas.core.frame.DataFrame'>\n",
      "Int64Index: 21969 entries, 40174 to 40856\n",
      "Data columns (total 7 columns):\n",
      " #   Column             Non-Null Count  Dtype  \n",
      "---  ------             --------------  -----  \n",
      " 0   bed_rooms          21969 non-null  int64  \n",
      " 1   bath_rooms         21969 non-null  float64\n",
      " 2   finished_sqft      21969 non-null  float64\n",
      " 3   taxvaluedollarcnt  21969 non-null  float64\n",
      " 4   year_built         21969 non-null  int64  \n",
      " 5   regionidcounty     21969 non-null  int64  \n",
      " 6   fips               21969 non-null  int64  \n",
      "dtypes: float64(3), int64(4)\n",
      "memory usage: 1.3 MB\n"
     ]
    }
   ],
   "source": [
    "# Shows data at a glance\n",
    "# Key takeaway - no nulls and 7 columns including the target variable\n",
    "train.info()"
   ]
  },
  {
   "cell_type": "markdown",
   "id": "ed5e08b5",
   "metadata": {},
   "source": [
    "### Data Summary"
   ]
  },
  {
   "cell_type": "code",
   "execution_count": 4,
   "id": "cd310b15",
   "metadata": {},
   "outputs": [
    {
     "data": {
      "text/html": [
       "<div>\n",
       "<style scoped>\n",
       "    .dataframe tbody tr th:only-of-type {\n",
       "        vertical-align: middle;\n",
       "    }\n",
       "\n",
       "    .dataframe tbody tr th {\n",
       "        vertical-align: top;\n",
       "    }\n",
       "\n",
       "    .dataframe thead th {\n",
       "        text-align: right;\n",
       "    }\n",
       "</style>\n",
       "<table border=\"1\" class=\"dataframe\">\n",
       "  <thead>\n",
       "    <tr style=\"text-align: right;\">\n",
       "      <th></th>\n",
       "      <th>bed_rooms</th>\n",
       "      <th>bath_rooms</th>\n",
       "      <th>finished_sqft</th>\n",
       "      <th>taxvaluedollarcnt</th>\n",
       "      <th>year_built</th>\n",
       "      <th>regionidcounty</th>\n",
       "      <th>fips</th>\n",
       "    </tr>\n",
       "  </thead>\n",
       "  <tbody>\n",
       "    <tr>\n",
       "      <th>count</th>\n",
       "      <td>21969.000000</td>\n",
       "      <td>21969.000000</td>\n",
       "      <td>21969.000000</td>\n",
       "      <td>21969.000000</td>\n",
       "      <td>21969.000000</td>\n",
       "      <td>21969.000000</td>\n",
       "      <td>21969.000000</td>\n",
       "    </tr>\n",
       "    <tr>\n",
       "      <th>mean</th>\n",
       "      <td>3.158405</td>\n",
       "      <td>2.026059</td>\n",
       "      <td>1623.302381</td>\n",
       "      <td>290381.744276</td>\n",
       "      <td>1960.570304</td>\n",
       "      <td>2590.490874</td>\n",
       "      <td>6048.232191</td>\n",
       "    </tr>\n",
       "    <tr>\n",
       "      <th>std</th>\n",
       "      <td>0.859079</td>\n",
       "      <td>0.742293</td>\n",
       "      <td>611.688231</td>\n",
       "      <td>163977.895379</td>\n",
       "      <td>21.337030</td>\n",
       "      <td>774.441636</td>\n",
       "      <td>20.907472</td>\n",
       "    </tr>\n",
       "    <tr>\n",
       "      <th>min</th>\n",
       "      <td>0.000000</td>\n",
       "      <td>0.000000</td>\n",
       "      <td>152.000000</td>\n",
       "      <td>1000.000000</td>\n",
       "      <td>1878.000000</td>\n",
       "      <td>1286.000000</td>\n",
       "      <td>6037.000000</td>\n",
       "    </tr>\n",
       "    <tr>\n",
       "      <th>25%</th>\n",
       "      <td>3.000000</td>\n",
       "      <td>2.000000</td>\n",
       "      <td>1200.000000</td>\n",
       "      <td>144941.000000</td>\n",
       "      <td>1950.000000</td>\n",
       "      <td>2061.000000</td>\n",
       "      <td>6037.000000</td>\n",
       "    </tr>\n",
       "    <tr>\n",
       "      <th>50%</th>\n",
       "      <td>3.000000</td>\n",
       "      <td>2.000000</td>\n",
       "      <td>1496.000000</td>\n",
       "      <td>281384.000000</td>\n",
       "      <td>1958.000000</td>\n",
       "      <td>3101.000000</td>\n",
       "      <td>6037.000000</td>\n",
       "    </tr>\n",
       "    <tr>\n",
       "      <th>75%</th>\n",
       "      <td>4.000000</td>\n",
       "      <td>2.500000</td>\n",
       "      <td>1922.000000</td>\n",
       "      <td>423359.000000</td>\n",
       "      <td>1974.000000</td>\n",
       "      <td>3101.000000</td>\n",
       "      <td>6059.000000</td>\n",
       "    </tr>\n",
       "    <tr>\n",
       "      <th>max</th>\n",
       "      <td>9.000000</td>\n",
       "      <td>8.000000</td>\n",
       "      <td>7970.000000</td>\n",
       "      <td>618256.000000</td>\n",
       "      <td>2016.000000</td>\n",
       "      <td>3101.000000</td>\n",
       "      <td>6111.000000</td>\n",
       "    </tr>\n",
       "  </tbody>\n",
       "</table>\n",
       "</div>"
      ],
      "text/plain": [
       "          bed_rooms    bath_rooms  finished_sqft  taxvaluedollarcnt  \\\n",
       "count  21969.000000  21969.000000   21969.000000       21969.000000   \n",
       "mean       3.158405      2.026059    1623.302381      290381.744276   \n",
       "std        0.859079      0.742293     611.688231      163977.895379   \n",
       "min        0.000000      0.000000     152.000000        1000.000000   \n",
       "25%        3.000000      2.000000    1200.000000      144941.000000   \n",
       "50%        3.000000      2.000000    1496.000000      281384.000000   \n",
       "75%        4.000000      2.500000    1922.000000      423359.000000   \n",
       "max        9.000000      8.000000    7970.000000      618256.000000   \n",
       "\n",
       "         year_built  regionidcounty          fips  \n",
       "count  21969.000000    21969.000000  21969.000000  \n",
       "mean    1960.570304     2590.490874   6048.232191  \n",
       "std       21.337030      774.441636     20.907472  \n",
       "min     1878.000000     1286.000000   6037.000000  \n",
       "25%     1950.000000     2061.000000   6037.000000  \n",
       "50%     1958.000000     3101.000000   6037.000000  \n",
       "75%     1974.000000     3101.000000   6059.000000  \n",
       "max     2016.000000     3101.000000   6111.000000  "
      ]
     },
     "execution_count": 4,
     "metadata": {},
     "output_type": "execute_result"
    }
   ],
   "source": [
    "# We can see an important key take away which is the average/mean of \n",
    "# the properties. The taxvaluedollarcnt column shows us the baseline \n",
    "# we will be working with as well as min and max ranges for the features.\n",
    "train.describe()"
   ]
  },
  {
   "cell_type": "markdown",
   "id": "f470afba",
   "metadata": {},
   "source": [
    "### Explore Data"
   ]
  },
  {
   "cell_type": "markdown",
   "id": "bdbcbd18",
   "metadata": {},
   "source": [
    "## What is average value of a single family home?"
   ]
  },
  {
   "cell_type": "code",
   "execution_count": 5,
   "id": "802bb758",
   "metadata": {},
   "outputs": [
    {
     "name": "stdout",
     "output_type": "stream",
     "text": [
      "The average value is $290381.74\n"
     ]
    }
   ],
   "source": [
    "# Code returns the average/mean of the feature tax val dollar count\n",
    "# Lets save that to a varaible as the baseline\n",
    " \n",
    "baseline = train.taxvaluedollarcnt.mean()\n",
    "print(f'The average value is ${baseline:.2f}')"
   ]
  },
  {
   "cell_type": "markdown",
   "id": "0f25a9f8",
   "metadata": {},
   "source": [
    "## What features should we investigate first?"
   ]
  },
  {
   "cell_type": "code",
   "execution_count": 6,
   "id": "d7d34d55",
   "metadata": {},
   "outputs": [],
   "source": [
    "# Code preps data for exploration and modeling\n",
    "x_train, y_train, x_validate, y_validate, x_test, y_test = mz.model_sets(train, validate, test)"
   ]
  },
  {
   "cell_type": "code",
   "execution_count": 7,
   "id": "f3865f3b",
   "metadata": {},
   "outputs": [
    {
     "data": {
      "text/html": [
       "<div>\n",
       "<style scoped>\n",
       "    .dataframe tbody tr th:only-of-type {\n",
       "        vertical-align: middle;\n",
       "    }\n",
       "\n",
       "    .dataframe tbody tr th {\n",
       "        vertical-align: top;\n",
       "    }\n",
       "\n",
       "    .dataframe thead th {\n",
       "        text-align: right;\n",
       "    }\n",
       "</style>\n",
       "<table border=\"1\" class=\"dataframe\">\n",
       "  <thead>\n",
       "    <tr style=\"text-align: right;\">\n",
       "      <th></th>\n",
       "      <th>p</th>\n",
       "      <th>f</th>\n",
       "    </tr>\n",
       "  </thead>\n",
       "  <tbody>\n",
       "    <tr>\n",
       "      <th>bed_rooms</th>\n",
       "      <td>4.087223e-126</td>\n",
       "      <td>578.123431</td>\n",
       "    </tr>\n",
       "    <tr>\n",
       "      <th>bath_rooms</th>\n",
       "      <td>0.000000e+00</td>\n",
       "      <td>1705.982503</td>\n",
       "    </tr>\n",
       "    <tr>\n",
       "      <th>finished_sqft</th>\n",
       "      <td>0.000000e+00</td>\n",
       "      <td>1800.012997</td>\n",
       "    </tr>\n",
       "    <tr>\n",
       "      <th>year_built</th>\n",
       "      <td>2.029789e-228</td>\n",
       "      <td>1066.254339</td>\n",
       "    </tr>\n",
       "    <tr>\n",
       "      <th>regionidcounty</th>\n",
       "      <td>6.291911e-146</td>\n",
       "      <td>671.810016</td>\n",
       "    </tr>\n",
       "    <tr>\n",
       "      <th>fips</th>\n",
       "      <td>5.074378e-122</td>\n",
       "      <td>558.816026</td>\n",
       "    </tr>\n",
       "  </tbody>\n",
       "</table>\n",
       "</div>"
      ],
      "text/plain": [
       "                            p            f\n",
       "bed_rooms       4.087223e-126   578.123431\n",
       "bath_rooms       0.000000e+00  1705.982503\n",
       "finished_sqft    0.000000e+00  1800.012997\n",
       "year_built      2.029789e-228  1066.254339\n",
       "regionidcounty  6.291911e-146   671.810016\n",
       "fips            5.074378e-122   558.816026"
      ]
     },
     "execution_count": 7,
     "metadata": {},
     "output_type": "execute_result"
    }
   ],
   "source": [
    "# Using KBest Select tool to generate features\n",
    "ez.select_kbest(x_train, y_train)"
   ]
  },
  {
   "cell_type": "markdown",
   "id": "134a0c72",
   "metadata": {},
   "source": [
    "       Kbest Results show in order of importance as features to investigate:\n",
    "       1. bathrooms\n",
    "       2. finished square ft\n",
    "       3. year built \n",
    "       4. bedrooms\n",
    "       5. fips\n",
    "       6. regionidcounty\n",
    "       \n",
    "        "
   ]
  },
  {
   "cell_type": "markdown",
   "id": "9ba89999",
   "metadata": {},
   "source": [
    "## Could the number of bathrooms be a driver?"
   ]
  },
  {
   "cell_type": "code",
   "execution_count": 8,
   "id": "31083438",
   "metadata": {},
   "outputs": [
    {
     "data": {
      "text/plain": [
       "Text(0.5, 1.0, 'Home Value based on Bathrooms')"
      ]
     },
     "execution_count": 8,
     "metadata": {},
     "output_type": "execute_result"
    },
    {
     "data": {
      "image/png": "[encoded data removed]",
      "text/plain": [
       "<Figure size 432x288 with 1 Axes>"
      ]
     },
     "metadata": {
      "needs_background": "light"
     },
     "output_type": "display_data"
    }
   ],
   "source": [
    "### viz showing value by bathrooms\n",
    "sns.barplot(data = train, y = 'taxvaluedollarcnt', x = 'bath_rooms')\n",
    "plt.title('Home Value based on Bathrooms')"
   ]
  },
  {
   "cell_type": "markdown",
   "id": "4ee44b1d",
   "metadata": {},
   "source": [
    "**I will now use a chi squared statistical test to investigate whether bathrooms of the home and tax value are related** \n",
    "\n",
    "* I will use a confidence interval of 95% \n",
    "* The resulting alpha is .05<br>\n",
    "\n",
    "${H_0}$: There is **no** association between bathrooms of the home and its tax value.\n",
    "\n",
    "${H_a}$: There **is** an association between bathrooms of the home and its tax value."
   ]
  },
  {
   "cell_type": "code",
   "execution_count": 9,
   "id": "2216c096",
   "metadata": {},
   "outputs": [
    {
     "name": "stdout",
     "output_type": "stream",
     "text": [
      "We reject the null hypothesis\n",
      "chi^2 = 282669.3795\n",
      "p     = 0.0000\n"
     ]
    }
   ],
   "source": [
    "ez.get_chi_bath(train)"
   ]
  },
  {
   "cell_type": "markdown",
   "id": "b2d0d1af",
   "metadata": {},
   "source": [
    "### Chi Squared says Yes "
   ]
  },
  {
   "cell_type": "markdown",
   "id": "bcca0600",
   "metadata": {},
   "source": [
    "## Could the number of finished square feet be a driver?"
   ]
  },
  {
   "cell_type": "markdown",
   "id": "aa309ffa",
   "metadata": {},
   "source": [
    "**I will now use a pearsonsr statistical test to investigate whether finished square feet of the home and tax value are related** \n",
    "\n",
    "* I will use a confidence interval of 95% \n",
    "* The resulting alpha is .05<br>\n",
    "\n",
    "${H_0}$: There is **no** relationship between finished sqaure feet of the home and tax value.\n",
    "\n",
    "${H_a}$: There **is** a relationship between finished sqaure feet of the home and tax value."
   ]
  },
  {
   "cell_type": "code",
   "execution_count": 10,
   "id": "83680fa4",
   "metadata": {},
   "outputs": [
    {
     "name": "stdout",
     "output_type": "stream",
     "text": [
      "We reject the null hypothesis\n",
      "pearsonsr test = 0.2752\n"
     ]
    }
   ],
   "source": [
    "ez.get_stats_sqft(train)"
   ]
  },
  {
   "cell_type": "markdown",
   "id": "4a60a413",
   "metadata": {},
   "source": [
    "### PearsonsR says Yes "
   ]
  },
  {
   "cell_type": "markdown",
   "id": "26656337",
   "metadata": {},
   "source": [
    "## Could the year of when home was built be a driver?"
   ]
  },
  {
   "cell_type": "markdown",
   "id": "ba21a661",
   "metadata": {},
   "source": [
    "**I will now use a pearsonsr statistical test to investigate whether the year the home was built and tax value are related** \n",
    "\n",
    "* I will use a confidence interval of 95% \n",
    "* The resulting alpha is .05<br>\n",
    "\n",
    "${H_0}$: There is **no** relationship between year built of the home and tax value.\n",
    "\n",
    "${H_a}$: There **is** a relationship between year built of the home and tax value."
   ]
  },
  {
   "cell_type": "code",
   "execution_count": 11,
   "id": "5bb1dabf",
   "metadata": {},
   "outputs": [
    {
     "name": "stdout",
     "output_type": "stream",
     "text": [
      "We reject the null hypothesis\n",
      "pearsonsr test = 0.2152\n"
     ]
    }
   ],
   "source": [
    "ez.get_stats_built(train)"
   ]
  },
  {
   "cell_type": "markdown",
   "id": "d9d0a423",
   "metadata": {},
   "source": [
    "### PearsonsR says Yes "
   ]
  },
  {
   "cell_type": "markdown",
   "id": "e1796365",
   "metadata": {},
   "source": [
    "## Could the number of bedrooms be a driver?"
   ]
  },
  {
   "cell_type": "code",
   "execution_count": 12,
   "id": "6cecc644",
   "metadata": {},
   "outputs": [
    {
     "data": {
      "text/plain": [
       "Text(0.5, 1.0, 'Home Value based on Bedrooms')"
      ]
     },
     "execution_count": 12,
     "metadata": {},
     "output_type": "execute_result"
    },
    {
     "data": {
      "image/png": "[encoded data removed]",
      "text/plain": [
       "<Figure size 432x288 with 1 Axes>"
      ]
     },
     "metadata": {
      "needs_background": "light"
     },
     "output_type": "display_data"
    }
   ],
   "source": [
    "### viz showing value by bedrooms\n",
    "# key take away from this viz is that it looks\n",
    "# almost linear until we reach 5 bedrooms\n",
    "# then there looks like a decline in value besides \n",
    "# clear outlier of 9 bedrooms\n",
    "sns.barplot(data = train, y = 'taxvaluedollarcnt', x = 'bed_rooms')\n",
    "plt.title('Home Value based on Bedrooms')"
   ]
  },
  {
   "cell_type": "markdown",
   "id": "4af5daf7",
   "metadata": {},
   "source": [
    "**I will now use a chi squared statistical test to investigate whether the bedrooms of the home and tax value are related** \n",
    "\n",
    "* I will use a confidence interval of 95% \n",
    "* The resulting alpha is .05<br>\n",
    "\n",
    "${H_0}$: There is no **linear** relationship between bedrooms of the home and tax value.\n",
    "\n",
    "${H_a}$: There is a **linear** relationship between bedrooms of the home and tax value."
   ]
  },
  {
   "cell_type": "code",
   "execution_count": 13,
   "id": "115f20c4",
   "metadata": {},
   "outputs": [
    {
     "name": "stdout",
     "output_type": "stream",
     "text": [
      "We reject the null hypothesis\n",
      "chi^2 = 174454.4700\n",
      "p     = 0.0000\n"
     ]
    }
   ],
   "source": [
    "#chi squared\n",
    "ez.get_chi_bed(train)"
   ]
  },
  {
   "cell_type": "markdown",
   "id": "8f7d5847",
   "metadata": {},
   "source": [
    "#### Chi Squared says Yes"
   ]
  },
  {
   "cell_type": "markdown",
   "id": "ef99d378",
   "metadata": {},
   "source": [
    "### Exploration Summary\n",
    "\n",
    "* Top 4 in the Kbest results were selected as features to investigate:\n",
    "    * bathrooms\n",
    "    * finished sqft\n",
    "    * year home was built\n",
    "    * bedrooms\n",
    "    \n",
    "* PearsonsR and Chi Squared statistical tests supported significance amongst the relationships between the 4 features and target variable.  \n",
    "\n",
    "### Creating predictive models\n",
    "\n",
    "#### Features included: \n",
    "\n",
    "* \"bathrooms\", \"finished sqft\", \"year built\" - Features that had the most significance in relationship to the target variable are most likely going to model the best predictive power.\n",
    "\n",
    "#### Features not included:\n",
    "\n",
    "* \"bedrooms\" - Feature had the weakest relationship to the target variable. "
   ]
  },
  {
   "cell_type": "markdown",
   "id": "d9270e8b",
   "metadata": {},
   "source": [
    "## MODEL"
   ]
  },
  {
   "cell_type": "code",
   "execution_count": 14,
   "id": "d770cdf4",
   "metadata": {},
   "outputs": [
    {
     "data": {
      "text/html": [
       "<div>\n",
       "<style scoped>\n",
       "    .dataframe tbody tr th:only-of-type {\n",
       "        vertical-align: middle;\n",
       "    }\n",
       "\n",
       "    .dataframe tbody tr th {\n",
       "        vertical-align: top;\n",
       "    }\n",
       "\n",
       "    .dataframe thead th {\n",
       "        text-align: right;\n",
       "    }\n",
       "</style>\n",
       "<table border=\"1\" class=\"dataframe\">\n",
       "  <thead>\n",
       "    <tr style=\"text-align: right;\">\n",
       "      <th></th>\n",
       "      <th>Actual</th>\n",
       "    </tr>\n",
       "  </thead>\n",
       "  <tbody>\n",
       "    <tr>\n",
       "      <th>40174</th>\n",
       "      <td>169587.0</td>\n",
       "    </tr>\n",
       "    <tr>\n",
       "      <th>28703</th>\n",
       "      <td>206900.0</td>\n",
       "    </tr>\n",
       "    <tr>\n",
       "      <th>6134</th>\n",
       "      <td>97875.0</td>\n",
       "    </tr>\n",
       "    <tr>\n",
       "      <th>17001</th>\n",
       "      <td>379756.0</td>\n",
       "    </tr>\n",
       "    <tr>\n",
       "      <th>30568</th>\n",
       "      <td>527700.0</td>\n",
       "    </tr>\n",
       "  </tbody>\n",
       "</table>\n",
       "</div>"
      ],
      "text/plain": [
       "         Actual\n",
       "40174  169587.0\n",
       "28703  206900.0\n",
       "6134    97875.0\n",
       "17001  379756.0\n",
       "30568  527700.0"
      ]
     },
     "execution_count": 14,
     "metadata": {},
     "output_type": "execute_result"
    }
   ],
   "source": [
    "# Actual column matches taxvaldollarcnt column\n",
    "# These are the actual figures from our training set\n",
    "# that will be used to make predictions from\n",
    "mz.predictions(train)"
   ]
  },
  {
   "cell_type": "markdown",
   "id": "8a09fb42",
   "metadata": {},
   "source": [
    "## Simple Linear Regression Model"
   ]
  },
  {
   "cell_type": "code",
   "execution_count": 15,
   "id": "81f16ebb",
   "metadata": {},
   "outputs": [
    {
     "name": "stdout",
     "output_type": "stream",
     "text": [
      "finished_sqft       43.394773\n",
      "year_built         718.528925\n",
      "bath_rooms       20393.405448\n",
      "dtype: float64\n"
     ]
    }
   ],
   "source": [
    "# Creates simple linear model that takes in \n",
    "# the train and validate sets and returns \n",
    "# coefficients and intercept points\n",
    "mz.simple_lm_model(train,validate)"
   ]
  },
  {
   "cell_type": "markdown",
   "id": "c8a3532a",
   "metadata": {},
   "source": [
    "## Lasso Lars Regression Model"
   ]
  },
  {
   "cell_type": "code",
   "execution_count": 16,
   "id": "346f802c",
   "metadata": {},
   "outputs": [
    {
     "name": "stdout",
     "output_type": "stream",
     "text": [
      "finished_sqft       43.268612\n",
      "year_built         714.146945\n",
      "bath_rooms       20342.313084\n",
      "dtype: float64\n"
     ]
    }
   ],
   "source": [
    "# Creates lasso lars model that takes in \n",
    "# the train and validate sets and returns \n",
    "# coefficients and intercept points\n",
    "mz.lasso_model(train,validate)"
   ]
  },
  {
   "cell_type": "markdown",
   "id": "7bc98a39",
   "metadata": {},
   "source": [
    "## Generalized Linear Regression Model"
   ]
  },
  {
   "cell_type": "code",
   "execution_count": 17,
   "id": "d70c67f4",
   "metadata": {},
   "outputs": [
    {
     "name": "stdout",
     "output_type": "stream",
     "text": [
      "finished_sqft      57.339299\n",
      "year_built        858.899942\n",
      "bath_rooms       3300.462751\n",
      "dtype: float64\n"
     ]
    }
   ],
   "source": [
    "# Creates generalized linear model that takes in \n",
    "# the train and validate sets and returns \n",
    "# coefficients and intercept points\n",
    "mz.glm_model(train,validate)"
   ]
  },
  {
   "cell_type": "markdown",
   "id": "70a48d5a",
   "metadata": {},
   "source": [
    "### Evaluate Models on Train data"
   ]
  },
  {
   "cell_type": "code",
   "execution_count": 18,
   "id": "cf59ec09",
   "metadata": {},
   "outputs": [
    {
     "name": "stdout",
     "output_type": "stream",
     "text": [
      "SSE: 590692063797269.4 \n",
      "MSE:  26887526232.29 \n",
      "RMSE:  163974.16\n"
     ]
    }
   ],
   "source": [
    "# Calculating the\n",
    "    # Sum of Squared Errors\n",
    "    # Mean Squared Errors\n",
    "    # Root of Mean Squared Errors\n",
    "# for the baseline predictions\n",
    "\n",
    "mz.baseline_mean_errors(train)"
   ]
  },
  {
   "cell_type": "code",
   "execution_count": 19,
   "id": "4552ebeb",
   "metadata": {},
   "outputs": [
    {
     "name": "stdout",
     "output_type": "stream",
     "text": [
      "SSE: 537857179361946.4 \n",
      "MSE:  24482551748.46 \n",
      "RMSE:  156469.01\n"
     ]
    }
   ],
   "source": [
    "# Calculating the\n",
    "    # Sum of Squared Errors\n",
    "    # Mean Squared Errors\n",
    "    # Root of Mean Squared Errors\n",
    "# for the lars predictions\n",
    "\n",
    "mz.lars_errors(train)"
   ]
  },
  {
   "cell_type": "code",
   "execution_count": 22,
   "id": "abc2c866",
   "metadata": {},
   "outputs": [
    {
     "name": "stdout",
     "output_type": "stream",
     "text": [
      "SSE: 539093206706790.56 \n",
      "MSE:  24538814088.34 \n",
      "RMSE:  156648.7\n"
     ]
    }
   ],
   "source": [
    "# Calculating the\n",
    "    # Sum of Squared Errors\n",
    "    # Mean Squared Errors\n",
    "    # Root of Mean Squared Errors\n",
    "# for the glm predictions\n",
    "\n",
    "mz.glm_errors(train)"
   ]
  },
  {
   "cell_type": "code",
   "execution_count": 23,
   "id": "1f8f8fb4",
   "metadata": {},
   "outputs": [
    {
     "name": "stdout",
     "output_type": "stream",
     "text": [
      "SSE: 537856500143301.6 \n",
      "MSE:  24482520831.32 \n",
      "RMSE:  156468.91\n"
     ]
    }
   ],
   "source": [
    "# Calculating the\n",
    "    # Sum of Squared Errors\n",
    "    # Mean Squared Errors\n",
    "    # Root of Mean Squared Errors\n",
    "# for the ols predictions\n",
    "\n",
    "mz.lm_errors(train)"
   ]
  },
  {
   "cell_type": "markdown",
   "id": "7092c593",
   "metadata": {},
   "source": [
    "   ## Keep Calm \n",
    "   ### & \n",
    "   ## Evaluate On"
   ]
  },
  {
   "cell_type": "code",
   "execution_count": 24,
   "id": "322ca6d1",
   "metadata": {},
   "outputs": [],
   "source": [
    "# Create Dataframes for visual comparison\n",
    "y_train = pd.DataFrame(train.taxvaluedollarcnt)\n",
    "y_validate = pd.DataFrame(validate.taxvaluedollarcnt)\n",
    "y_test = pd.DataFrame(test.taxvaluedollarcnt)"
   ]
  },
  {
   "cell_type": "code",
   "execution_count": 25,
   "id": "39f2da38",
   "metadata": {},
   "outputs": [],
   "source": [
    "# Place our baseline predictions in the new dataframe\n",
    "# for safe keeping\n",
    "taxVal_pred_mean = train.taxvaluedollarcnt.mean()\n",
    "y_train['taxVal_pred_mean'] = taxVal_pred_mean\n",
    "y_validate['taxVal_pred_mean'] = taxVal_pred_mean"
   ]
  },
  {
   "cell_type": "code",
   "execution_count": 24,
   "id": "52e4747b",
   "metadata": {},
   "outputs": [],
   "source": [
    "# RMSE of baseline predictions on train & validate\n",
    "rmse_train = mean_squared_error(y_train.taxvaluedollarcnt,\n",
    "                                y_train.taxVal_pred_mean) ** .5\n",
    "rmse_validate = mean_squared_error(y_validate.taxvaluedollarcnt,\n",
    "                                   y_validate.taxVal_pred_mean) ** (1/2)"
   ]
  },
  {
   "cell_type": "code",
   "execution_count": 25,
   "id": "019eadb4",
   "metadata": {},
   "outputs": [
    {
     "name": "stdout",
     "output_type": "stream",
     "text": [
      "RMSE Baseline Results\n",
      "Train/Sample Set:  163974.16 \n",
      "Validate/Sample Set:  161692.14\n"
     ]
    }
   ],
   "source": [
    "# Here we can compare the baseline results from the training \n",
    "# sample set versus the validate sample set\n",
    "# not very much difference in the errors\n",
    "print(\"RMSE Baseline Results\\nTrain/Sample Set: \", round(rmse_train, 2), \n",
    "      \"\\nValidate/Sample Set: \", round(rmse_validate, 2))"
   ]
  },
  {
   "cell_type": "code",
   "execution_count": 26,
   "id": "1d4238a1",
   "metadata": {},
   "outputs": [],
   "source": [
    "# This Awesome Function that creates a complex dataframe is here because:\n",
    "#    a. It totally wanted to show itself off\n",
    "#    b. It refused to cooperate in the model file\n",
    "\n",
    "def make_metric_df(y, y_pred, model_name, metric_df):\n",
    "    if metric_df.size ==0:\n",
    "        metric_df = pd.DataFrame(data=[\n",
    "            {\n",
    "                'model': model_name, \n",
    "                'RMSE_validate': mean_squared_error(\n",
    "                    y,\n",
    "                    y_pred) ** .5,\n",
    "                'r^2_validate': explained_variance_score(\n",
    "                    y,\n",
    "                    y_pred)\n",
    "            }])\n",
    "        return metric_df\n",
    "    else:\n",
    "        return metric_df.append(\n",
    "            {\n",
    "                'model': model_name, \n",
    "                'RMSE_validate': mean_squared_error(\n",
    "                    y,\n",
    "                    y_pred) ** .5,\n",
    "                'r^2_validate': explained_variance_score(\n",
    "                    y,\n",
    "                    y_pred)\n",
    "            }, ignore_index=True)"
   ]
  },
  {
   "cell_type": "code",
   "execution_count": 27,
   "id": "3ebafc19",
   "metadata": {},
   "outputs": [
    {
     "data": {
      "text/html": [
       "<div>\n",
       "<style scoped>\n",
       "    .dataframe tbody tr th:only-of-type {\n",
       "        vertical-align: middle;\n",
       "    }\n",
       "\n",
       "    .dataframe tbody tr th {\n",
       "        vertical-align: top;\n",
       "    }\n",
       "\n",
       "    .dataframe thead th {\n",
       "        text-align: right;\n",
       "    }\n",
       "</style>\n",
       "<table border=\"1\" class=\"dataframe\">\n",
       "  <thead>\n",
       "    <tr style=\"text-align: right;\">\n",
       "      <th></th>\n",
       "      <th>model</th>\n",
       "      <th>RMSE_validate</th>\n",
       "      <th>r^2_validate</th>\n",
       "    </tr>\n",
       "  </thead>\n",
       "  <tbody>\n",
       "    <tr>\n",
       "      <th>0</th>\n",
       "      <td>mean_baseline</td>\n",
       "      <td>161692.143042</td>\n",
       "      <td>1.110223e-16</td>\n",
       "    </tr>\n",
       "  </tbody>\n",
       "</table>\n",
       "</div>"
      ],
      "text/plain": [
       "           model  RMSE_validate  r^2_validate\n",
       "0  mean_baseline  161692.143042  1.110223e-16"
      ]
     },
     "execution_count": 27,
     "metadata": {},
     "output_type": "execute_result"
    }
   ],
   "source": [
    "# Create the metric_df as a blank dataframe\n",
    "metric_df = pd.DataFrame()\n",
    "# Nab those safe baseline predictions from earlier\n",
    "metric_df = make_metric_df(y_validate.taxvaluedollarcnt,\n",
    "                           y_validate.taxVal_pred_mean,\n",
    "                           'mean_baseline',\n",
    "                          metric_df)\n",
    "# Voila\n",
    "metric_df"
   ]
  },
  {
   "cell_type": "code",
   "execution_count": 28,
   "id": "acc27fa5",
   "metadata": {},
   "outputs": [
    {
     "data": {
      "text/html": [
       "<div>\n",
       "<style scoped>\n",
       "    .dataframe tbody tr th:only-of-type {\n",
       "        vertical-align: middle;\n",
       "    }\n",
       "\n",
       "    .dataframe tbody tr th {\n",
       "        vertical-align: top;\n",
       "    }\n",
       "\n",
       "    .dataframe thead th {\n",
       "        text-align: right;\n",
       "    }\n",
       "</style>\n",
       "<table border=\"1\" class=\"dataframe\">\n",
       "  <thead>\n",
       "    <tr style=\"text-align: right;\">\n",
       "      <th></th>\n",
       "      <th>model</th>\n",
       "      <th>RMSE_validate</th>\n",
       "      <th>r^2_validate</th>\n",
       "    </tr>\n",
       "  </thead>\n",
       "  <tbody>\n",
       "    <tr>\n",
       "      <th>0</th>\n",
       "      <td>mean_baseline</td>\n",
       "      <td>1.616921e+05</td>\n",
       "      <td>1.110223e-16</td>\n",
       "    </tr>\n",
       "    <tr>\n",
       "      <th>1</th>\n",
       "      <td>SimpleLinear</td>\n",
       "      <td>2.385740e+10</td>\n",
       "      <td>8.743712e-02</td>\n",
       "    </tr>\n",
       "  </tbody>\n",
       "</table>\n",
       "</div>"
      ],
      "text/plain": [
       "           model  RMSE_validate  r^2_validate\n",
       "0  mean_baseline   1.616921e+05  1.110223e-16\n",
       "1   SimpleLinear   2.385740e+10  8.743712e-02"
      ]
     },
     "execution_count": 28,
     "metadata": {},
     "output_type": "execute_result"
    }
   ],
   "source": [
    "# Adding the validate results for the Ols model \n",
    "metric_df = metric_df.append({\n",
    "    'model': 'SimpleLinear', \n",
    "    'RMSE_validate': mean_squared_error(validate.taxvaluedollarcnt, validate.lm_predictions),\n",
    "    'r^2_validate': explained_variance_score(validate.taxvaluedollarcnt, validate.lm_predictions)}, ignore_index=True)\n",
    "# Voila\n",
    "metric_df"
   ]
  },
  {
   "cell_type": "code",
   "execution_count": 29,
   "id": "2995dd37",
   "metadata": {},
   "outputs": [
    {
     "data": {
      "text/html": [
       "<div>\n",
       "<style scoped>\n",
       "    .dataframe tbody tr th:only-of-type {\n",
       "        vertical-align: middle;\n",
       "    }\n",
       "\n",
       "    .dataframe tbody tr th {\n",
       "        vertical-align: top;\n",
       "    }\n",
       "\n",
       "    .dataframe thead th {\n",
       "        text-align: right;\n",
       "    }\n",
       "</style>\n",
       "<table border=\"1\" class=\"dataframe\">\n",
       "  <thead>\n",
       "    <tr style=\"text-align: right;\">\n",
       "      <th></th>\n",
       "      <th>model</th>\n",
       "      <th>RMSE_validate</th>\n",
       "      <th>r^2_validate</th>\n",
       "    </tr>\n",
       "  </thead>\n",
       "  <tbody>\n",
       "    <tr>\n",
       "      <th>0</th>\n",
       "      <td>mean_baseline</td>\n",
       "      <td>1.616921e+05</td>\n",
       "      <td>1.110223e-16</td>\n",
       "    </tr>\n",
       "    <tr>\n",
       "      <th>1</th>\n",
       "      <td>SimpleLinear</td>\n",
       "      <td>2.385740e+10</td>\n",
       "      <td>8.743712e-02</td>\n",
       "    </tr>\n",
       "    <tr>\n",
       "      <th>2</th>\n",
       "      <td>LassoLars</td>\n",
       "      <td>2.385735e+10</td>\n",
       "      <td>8.743876e-02</td>\n",
       "    </tr>\n",
       "  </tbody>\n",
       "</table>\n",
       "</div>"
      ],
      "text/plain": [
       "           model  RMSE_validate  r^2_validate\n",
       "0  mean_baseline   1.616921e+05  1.110223e-16\n",
       "1   SimpleLinear   2.385740e+10  8.743712e-02\n",
       "2      LassoLars   2.385735e+10  8.743876e-02"
      ]
     },
     "execution_count": 29,
     "metadata": {},
     "output_type": "execute_result"
    }
   ],
   "source": [
    "# Adding the validate results for the LassoLars model\n",
    "metric_df = metric_df.append({\n",
    "    'model': 'LassoLars', \n",
    "    'RMSE_validate': mean_squared_error(validate.taxvaluedollarcnt, validate.lars_predictions),\n",
    "    'r^2_validate': explained_variance_score(validate.taxvaluedollarcnt, validate.lars_predictions)}, ignore_index=True)\n",
    "# Voila\n",
    "metric_df"
   ]
  },
  {
   "cell_type": "code",
   "execution_count": 30,
   "id": "f3c63c67",
   "metadata": {},
   "outputs": [
    {
     "data": {
      "text/html": [
       "<div>\n",
       "<style scoped>\n",
       "    .dataframe tbody tr th:only-of-type {\n",
       "        vertical-align: middle;\n",
       "    }\n",
       "\n",
       "    .dataframe tbody tr th {\n",
       "        vertical-align: top;\n",
       "    }\n",
       "\n",
       "    .dataframe thead th {\n",
       "        text-align: right;\n",
       "    }\n",
       "</style>\n",
       "<table border=\"1\" class=\"dataframe\">\n",
       "  <thead>\n",
       "    <tr style=\"text-align: right;\">\n",
       "      <th></th>\n",
       "      <th>model</th>\n",
       "      <th>RMSE_validate</th>\n",
       "      <th>r^2_validate</th>\n",
       "    </tr>\n",
       "  </thead>\n",
       "  <tbody>\n",
       "    <tr>\n",
       "      <th>0</th>\n",
       "      <td>mean_baseline</td>\n",
       "      <td>1.616921e+05</td>\n",
       "      <td>1.110223e-16</td>\n",
       "    </tr>\n",
       "    <tr>\n",
       "      <th>1</th>\n",
       "      <td>SimpleLinear</td>\n",
       "      <td>2.385740e+10</td>\n",
       "      <td>8.743712e-02</td>\n",
       "    </tr>\n",
       "    <tr>\n",
       "      <th>2</th>\n",
       "      <td>LassoLars</td>\n",
       "      <td>2.385735e+10</td>\n",
       "      <td>8.743876e-02</td>\n",
       "    </tr>\n",
       "    <tr>\n",
       "      <th>3</th>\n",
       "      <td>GeneralizedLinear</td>\n",
       "      <td>2.388970e+10</td>\n",
       "      <td>8.620069e-02</td>\n",
       "    </tr>\n",
       "  </tbody>\n",
       "</table>\n",
       "</div>"
      ],
      "text/plain": [
       "               model  RMSE_validate  r^2_validate\n",
       "0      mean_baseline   1.616921e+05  1.110223e-16\n",
       "1       SimpleLinear   2.385740e+10  8.743712e-02\n",
       "2          LassoLars   2.385735e+10  8.743876e-02\n",
       "3  GeneralizedLinear   2.388970e+10  8.620069e-02"
      ]
     },
     "execution_count": 30,
     "metadata": {},
     "output_type": "execute_result"
    }
   ],
   "source": [
    "# Adding the validate results for the Tweedie model\n",
    "metric_df = metric_df.append({\n",
    "    'model': 'GeneralizedLinear', \n",
    "    'RMSE_validate': mean_squared_error(validate.taxvaluedollarcnt, validate.glm_predictions),\n",
    "    'r^2_validate': explained_variance_score(validate.taxvaluedollarcnt, validate.glm_predictions)}, ignore_index=True)\n",
    "# Voila\n",
    "metric_df"
   ]
  },
  {
   "cell_type": "markdown",
   "id": "6c5186f2",
   "metadata": {},
   "source": [
    "## Modeling Summary\n",
    "\n",
    "* The LassoLars model performed very similar to the SimpleLinear model on validate data set \n",
    "    * 735\n",
    "    * 740\n",
    "    \n",
    "* The Glm models performance landed in last place\n",
    "    * Had the highest RMSE score of the 3 models\n",
    "    \n",
    "    \n",
    "* The ideal model is expected to have the lowest RMSE in comparison.\n",
    "    * For this reason LassoLars model will now be fit to the test data set "
   ]
  },
  {
   "cell_type": "markdown",
   "id": "4c79b168",
   "metadata": {},
   "source": [
    "### Proceeded with LassoLars model on Test data"
   ]
  },
  {
   "cell_type": "code",
   "execution_count": 39,
   "id": "7a4c939b",
   "metadata": {},
   "outputs": [
    {
     "name": "stdout",
     "output_type": "stream",
     "text": [
      "RMSE for LassoLars Model Test-Sample Performance:  154213.43095431986\n"
     ]
    }
   ],
   "source": [
    "lars = LassoLars(alpha=1).fit(x_test, y_test)\n",
    "y_test['lars_predictions'] = lars.predict(x_test)\n",
    "rmse_test = mean_squared_error(y_test.taxvaluedollarcnt, y_test.lars_predictions) ** (1/2)\n",
    "print(\"RMSE for LassoLars Model Test-Sample Performance: \", rmse_test)"
   ]
  },
  {
   "cell_type": "markdown",
   "id": "42405153",
   "metadata": {},
   "source": [
    "### Conclusions\n",
    "\n",
    "* Lasso Lars Regression model RMSE scores:\n",
    "\n",
    "        * 1.564690e+10 on training data samples\n",
    "        * 2.385735e+10 on validate data samples\n",
    "        * 1.542134e+10 on test data samples\n",
    "\n",
    "### Key Takeaway\n",
    "\n",
    "#### Lasso Lars model out performed baseline model on train data set and the test data set. \n",
    "\n",
    "### Recommendations\n",
    "\n",
    "   * Consider eliminating outliers through and through  \n",
    "   * Consider deeper dive investigation on bedrooms\n",
    "   * Use bedrooms feature in future modeling\n",
    "   * Consider the strategy to predict on transformed bathroom feature\n",
    "       to account for half bath computation"
   ]
  }
 ],
 "metadata": {
  "kernelspec": {
   "display_name": "Python 3 (ipykernel)",
   "language": "python",
   "name": "python3"
  },
  "language_info": {
   "codemirror_mode": {
    "name": "ipython",
    "version": 3
   },
   "file_extension": ".py",
   "mimetype": "text/x-python",
   "name": "python",
   "nbconvert_exporter": "python",
   "pygments_lexer": "ipython3",
   "version": "3.9.12"
  }
 },
 "nbformat": 4,
 "nbformat_minor": 5
}
